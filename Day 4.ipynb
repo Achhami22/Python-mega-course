{
 "cells": [
  {
   "cell_type": "markdown",
   "id": "c57e0ae5",
   "metadata": {},
   "source": [
    "# List"
   ]
  },
  {
   "cell_type": "code",
   "execution_count": 1,
   "id": "8f2f7c19",
   "metadata": {},
   "outputs": [],
   "source": [
    "lst=[1,2,3, 'Hi' ,2.0565676,'Shiv','Hexcode'] #Creating list"
   ]
  },
  {
   "cell_type": "code",
   "execution_count": 2,
   "id": "f00059d2",
   "metadata": {},
   "outputs": [
    {
     "data": {
      "text/plain": [
       "list"
      ]
     },
     "execution_count": 2,
     "metadata": {},
     "output_type": "execute_result"
    }
   ],
   "source": [
    "type(lst) #knowing the variable type"
   ]
  },
  {
   "cell_type": "code",
   "execution_count": 3,
   "id": "b9c1f00a",
   "metadata": {},
   "outputs": [
    {
     "data": {
      "text/plain": [
       "7"
      ]
     },
     "execution_count": 3,
     "metadata": {},
     "output_type": "execute_result"
    }
   ],
   "source": [
    "len(lst)#length of list"
   ]
  },
  {
   "cell_type": "code",
   "execution_count": 4,
   "id": "3cb3a6c9",
   "metadata": {},
   "outputs": [
    {
     "data": {
      "text/plain": [
       "3"
      ]
     },
     "execution_count": 4,
     "metadata": {},
     "output_type": "execute_result"
    }
   ],
   "source": [
    "lst[2]"
   ]
  },
  {
   "cell_type": "code",
   "execution_count": 5,
   "id": "72a8ee08",
   "metadata": {},
   "outputs": [
    {
     "data": {
      "text/plain": [
       "int"
      ]
     },
     "execution_count": 5,
     "metadata": {},
     "output_type": "execute_result"
    }
   ],
   "source": [
    "type(lst[2]) #Knowing the variable type in lst at index 2"
   ]
  },
  {
   "cell_type": "code",
   "execution_count": 6,
   "id": "60e002fc",
   "metadata": {},
   "outputs": [
    {
     "data": {
      "text/plain": [
       "'Shiv Hexcode'"
      ]
     },
     "execution_count": 6,
     "metadata": {},
     "output_type": "execute_result"
    }
   ],
   "source": [
    "lst[5]+' '+lst[6] #Writing the shiv and hexcode together"
   ]
  },
  {
   "cell_type": "code",
   "execution_count": 7,
   "id": "9cce57ce",
   "metadata": {},
   "outputs": [
    {
     "data": {
      "text/plain": [
       "[3, 'Hi', 2.0565676, 'Shiv']"
      ]
     },
     "execution_count": 7,
     "metadata": {},
     "output_type": "execute_result"
    }
   ],
   "source": [
    "lst[2:6] #finding the list after 2 to 6"
   ]
  },
  {
   "cell_type": "code",
   "execution_count": 8,
   "id": "7b6829eb",
   "metadata": {},
   "outputs": [],
   "source": [
    "lst1=[]#emty list"
   ]
  },
  {
   "cell_type": "code",
   "execution_count": 9,
   "id": "47e3005d",
   "metadata": {},
   "outputs": [],
   "source": [
    "lst1.append('Hex') #adding Hex to list"
   ]
  },
  {
   "cell_type": "code",
   "execution_count": 10,
   "id": "446638bd",
   "metadata": {},
   "outputs": [
    {
     "data": {
      "text/plain": [
       "['Hex']"
      ]
     },
     "execution_count": 10,
     "metadata": {},
     "output_type": "execute_result"
    }
   ],
   "source": [
    "lst1"
   ]
  },
  {
   "cell_type": "code",
   "execution_count": 11,
   "id": "3624c27c",
   "metadata": {},
   "outputs": [],
   "source": [
    "lst1.append('Nepal')"
   ]
  },
  {
   "cell_type": "code",
   "execution_count": 12,
   "id": "83b3c603",
   "metadata": {},
   "outputs": [],
   "source": [
    "lst1.append('2077')"
   ]
  },
  {
   "cell_type": "code",
   "execution_count": 13,
   "id": "f75fdcbd",
   "metadata": {},
   "outputs": [],
   "source": [
    "lst1.append('Python')"
   ]
  },
  {
   "cell_type": "code",
   "execution_count": 14,
   "id": "28235d66",
   "metadata": {},
   "outputs": [
    {
     "data": {
      "text/plain": [
       "['Hex', 'Nepal', '2077', 'Python']"
      ]
     },
     "execution_count": 14,
     "metadata": {},
     "output_type": "execute_result"
    }
   ],
   "source": [
    "lst1"
   ]
  },
  {
   "cell_type": "code",
   "execution_count": 15,
   "id": "466e3115",
   "metadata": {},
   "outputs": [],
   "source": [
    "lst1.insert(1,'code')#Inserting code in list at position 2."
   ]
  },
  {
   "cell_type": "code",
   "execution_count": 16,
   "id": "350e6f27",
   "metadata": {},
   "outputs": [
    {
     "data": {
      "text/plain": [
       "['Hex', 'code', 'Nepal', '2077', 'Python']"
      ]
     },
     "execution_count": 16,
     "metadata": {},
     "output_type": "execute_result"
    }
   ],
   "source": [
    "lst1"
   ]
  },
  {
   "cell_type": "code",
   "execution_count": 17,
   "id": "9a3a3408",
   "metadata": {},
   "outputs": [],
   "source": [
    "lst1[1]='Academy' # changing code with Academy"
   ]
  },
  {
   "cell_type": "code",
   "execution_count": 18,
   "id": "5bd0e240",
   "metadata": {},
   "outputs": [
    {
     "data": {
      "text/plain": [
       "['Hex', 'Academy', 'Nepal', '2077', 'Python']"
      ]
     },
     "execution_count": 18,
     "metadata": {},
     "output_type": "execute_result"
    }
   ],
   "source": [
    "lst1"
   ]
  },
  {
   "cell_type": "code",
   "execution_count": 19,
   "id": "e9a6b3da",
   "metadata": {},
   "outputs": [],
   "source": [
    "lst1[1:4]=['code','USA','2023']"
   ]
  },
  {
   "cell_type": "code",
   "execution_count": 20,
   "id": "cb5abc41",
   "metadata": {},
   "outputs": [
    {
     "data": {
      "text/plain": [
       "['Hex', 'code', 'USA', '2023', 'Python']"
      ]
     },
     "execution_count": 20,
     "metadata": {},
     "output_type": "execute_result"
    }
   ],
   "source": [
    "lst1"
   ]
  },
  {
   "cell_type": "code",
   "execution_count": 21,
   "id": "6c4935a9",
   "metadata": {},
   "outputs": [],
   "source": [
    "lst1.remove('Hex') #Removing Hex"
   ]
  },
  {
   "cell_type": "code",
   "execution_count": 22,
   "id": "54df69c5",
   "metadata": {},
   "outputs": [
    {
     "data": {
      "text/plain": [
       "['code', 'USA', '2023', 'Python']"
      ]
     },
     "execution_count": 22,
     "metadata": {},
     "output_type": "execute_result"
    }
   ],
   "source": [
    "lst1"
   ]
  },
  {
   "cell_type": "code",
   "execution_count": 23,
   "id": "4898ffe7",
   "metadata": {},
   "outputs": [],
   "source": [
    "lst1.clear()"
   ]
  },
  {
   "cell_type": "code",
   "execution_count": 24,
   "id": "ec54770a",
   "metadata": {},
   "outputs": [
    {
     "data": {
      "text/plain": [
       "[]"
      ]
     },
     "execution_count": 24,
     "metadata": {},
     "output_type": "execute_result"
    }
   ],
   "source": [
    "lst1"
   ]
  },
  {
   "cell_type": "code",
   "execution_count": 25,
   "id": "3b83837e",
   "metadata": {},
   "outputs": [
    {
     "data": {
      "text/plain": [
       "[1, 2, 3, 'Hi', 2.0565676, 'Shiv', 'Hexcode']"
      ]
     },
     "execution_count": 25,
     "metadata": {},
     "output_type": "execute_result"
    }
   ],
   "source": [
    "lst"
   ]
  },
  {
   "cell_type": "code",
   "execution_count": 26,
   "id": "fbc1afa1",
   "metadata": {},
   "outputs": [
    {
     "data": {
      "text/plain": [
       "'Hexcode'"
      ]
     },
     "execution_count": 26,
     "metadata": {},
     "output_type": "execute_result"
    }
   ],
   "source": [
    "lst.pop() #Removing last element"
   ]
  },
  {
   "cell_type": "code",
   "execution_count": 27,
   "id": "0aae8ad2",
   "metadata": {},
   "outputs": [
    {
     "data": {
      "text/plain": [
       "[1, 2, 3, 'Hi', 2.0565676, 'Shiv']"
      ]
     },
     "execution_count": 27,
     "metadata": {},
     "output_type": "execute_result"
    }
   ],
   "source": [
    "lst #Remaining element after pop"
   ]
  },
  {
   "cell_type": "code",
   "execution_count": 28,
   "id": "52cf4e89",
   "metadata": {},
   "outputs": [
    {
     "data": {
      "text/plain": [
       "'Shiv'"
      ]
     },
     "execution_count": 28,
     "metadata": {},
     "output_type": "execute_result"
    }
   ],
   "source": [
    "lst.pop() #Again removing last element"
   ]
  },
  {
   "cell_type": "code",
   "execution_count": 29,
   "id": "313aee4a",
   "metadata": {},
   "outputs": [
    {
     "data": {
      "text/plain": [
       "[1, 2, 3, 'Hi', 2.0565676]"
      ]
     },
     "execution_count": 29,
     "metadata": {},
     "output_type": "execute_result"
    }
   ],
   "source": [
    "lst #Remaining element after pop"
   ]
  },
  {
   "cell_type": "code",
   "execution_count": 30,
   "id": "14dba378",
   "metadata": {},
   "outputs": [
    {
     "data": {
      "text/plain": [
       "True"
      ]
     },
     "execution_count": 30,
     "metadata": {},
     "output_type": "execute_result"
    }
   ],
   "source": [
    "1 in lst #Checking wether 1 is in list lst or not."
   ]
  },
  {
   "cell_type": "code",
   "execution_count": 31,
   "id": "8719982a",
   "metadata": {},
   "outputs": [
    {
     "data": {
      "text/plain": [
       "True"
      ]
     },
     "execution_count": 31,
     "metadata": {},
     "output_type": "execute_result"
    }
   ],
   "source": [
    "2 in lst#Checking wether 2 is in list lst or not"
   ]
  },
  {
   "cell_type": "code",
   "execution_count": 32,
   "id": "fad26bdc",
   "metadata": {},
   "outputs": [
    {
     "data": {
      "text/plain": [
       "False"
      ]
     },
     "execution_count": 32,
     "metadata": {},
     "output_type": "execute_result"
    }
   ],
   "source": [
    "2 not in lst#Checking wether 2 is in list lst or not"
   ]
  },
  {
   "cell_type": "code",
   "execution_count": 33,
   "id": "28a0bf9e",
   "metadata": {},
   "outputs": [
    {
     "data": {
      "text/plain": [
       "True"
      ]
     },
     "execution_count": 33,
     "metadata": {},
     "output_type": "execute_result"
    }
   ],
   "source": [
    "'Hi' in lst#Checking wether Hi is in list lst or not"
   ]
  },
  {
   "cell_type": "markdown",
   "id": "792bfcd8",
   "metadata": {},
   "source": [
    "# Dictionary"
   ]
  },
  {
   "cell_type": "code",
   "execution_count": 1,
   "id": "96736a9b",
   "metadata": {},
   "outputs": [],
   "source": [
    "info={\n",
    "    'Name' : 'Sabina Achhami',\n",
    "    'Roll No': 15,\n",
    "    'College': 'Medhavi College',\n",
    "    'Semester':2,\n",
    "    'Programme': 'BCIS'} #Creating dictionary"
   ]
  },
  {
   "cell_type": "code",
   "execution_count": 2,
   "id": "a67c846b",
   "metadata": {},
   "outputs": [
    {
     "data": {
      "text/plain": [
       "{'Name': 'Sabina Achhami',\n",
       " 'Roll No': 15,\n",
       " 'College': 'Medhavi College',\n",
       " 'Semester': 2,\n",
       " 'Programme': 'BCIS'}"
      ]
     },
     "execution_count": 2,
     "metadata": {},
     "output_type": "execute_result"
    }
   ],
   "source": [
    "info # Showing dictionary"
   ]
  },
  {
   "cell_type": "code",
   "execution_count": 3,
   "id": "74a1fd0b",
   "metadata": {},
   "outputs": [
    {
     "data": {
      "text/plain": [
       "dict_keys(['Name', 'Roll No', 'College', 'Semester', 'Programme'])"
      ]
     },
     "execution_count": 3,
     "metadata": {},
     "output_type": "execute_result"
    }
   ],
   "source": [
    "info.keys()"
   ]
  },
  {
   "cell_type": "code",
   "execution_count": 4,
   "id": "266d106d",
   "metadata": {},
   "outputs": [
    {
     "data": {
      "text/plain": [
       "'Medhavi College'"
      ]
     },
     "execution_count": 4,
     "metadata": {},
     "output_type": "execute_result"
    }
   ],
   "source": [
    "info['College']"
   ]
  },
  {
   "cell_type": "code",
   "execution_count": 5,
   "id": "74140fbd",
   "metadata": {},
   "outputs": [],
   "source": [
    "info['College']='Pulchowk' #changing college name"
   ]
  },
  {
   "cell_type": "code",
   "execution_count": 6,
   "id": "9f66c8e8",
   "metadata": {},
   "outputs": [
    {
     "data": {
      "text/plain": [
       "'Pulchowk'"
      ]
     },
     "execution_count": 6,
     "metadata": {},
     "output_type": "execute_result"
    }
   ],
   "source": [
    "info['College'] #Showing after changing college name"
   ]
  },
  {
   "cell_type": "code",
   "execution_count": 7,
   "id": "44cb776c",
   "metadata": {},
   "outputs": [
    {
     "data": {
      "text/plain": [
       "dict_values(['Sabina Achhami', 15, 'Pulchowk', 2, 'BCIS'])"
      ]
     },
     "execution_count": 7,
     "metadata": {},
     "output_type": "execute_result"
    }
   ],
   "source": [
    "info.values()#showing values"
   ]
  },
  {
   "cell_type": "code",
   "execution_count": 8,
   "id": "a9b1226f",
   "metadata": {},
   "outputs": [],
   "source": [
    "info['Remarks']='Topper'#Adding remarks indictionary"
   ]
  },
  {
   "cell_type": "code",
   "execution_count": 9,
   "id": "0f0bf9a3",
   "metadata": {},
   "outputs": [
    {
     "data": {
      "text/plain": [
       "{'Name': 'Sabina Achhami',\n",
       " 'Roll No': 15,\n",
       " 'College': 'Pulchowk',\n",
       " 'Semester': 2,\n",
       " 'Programme': 'BCIS',\n",
       " 'Remarks': 'Topper'}"
      ]
     },
     "execution_count": 9,
     "metadata": {},
     "output_type": "execute_result"
    }
   ],
   "source": [
    "info # Showing after adding remarks"
   ]
  },
  {
   "cell_type": "code",
   "execution_count": 10,
   "id": "55ad1a6c",
   "metadata": {},
   "outputs": [
    {
     "data": {
      "text/plain": [
       "'Topper'"
      ]
     },
     "execution_count": 10,
     "metadata": {},
     "output_type": "execute_result"
    }
   ],
   "source": [
    "info.pop('Remarks')"
   ]
  },
  {
   "cell_type": "code",
   "execution_count": 11,
   "id": "29266007",
   "metadata": {},
   "outputs": [
    {
     "data": {
      "text/plain": [
       "{'Name': 'Sabina Achhami',\n",
       " 'Roll No': 15,\n",
       " 'College': 'Pulchowk',\n",
       " 'Semester': 2,\n",
       " 'Programme': 'BCIS'}"
      ]
     },
     "execution_count": 11,
     "metadata": {},
     "output_type": "execute_result"
    }
   ],
   "source": [
    "info # after removing remarks"
   ]
  },
  {
   "cell_type": "code",
   "execution_count": 12,
   "id": "43eec8a1",
   "metadata": {},
   "outputs": [],
   "source": [
    "info.update({'Registration No': '22348-639886'})"
   ]
  },
  {
   "cell_type": "code",
   "execution_count": 13,
   "id": "e56e8484",
   "metadata": {},
   "outputs": [
    {
     "data": {
      "text/plain": [
       "{'Name': 'Sabina Achhami',\n",
       " 'Roll No': 15,\n",
       " 'College': 'Pulchowk',\n",
       " 'Semester': 2,\n",
       " 'Programme': 'BCIS',\n",
       " 'Registration No': '22348-639886'}"
      ]
     },
     "execution_count": 13,
     "metadata": {},
     "output_type": "execute_result"
    }
   ],
   "source": [
    "info # Showing After updating "
   ]
  },
  {
   "cell_type": "code",
   "execution_count": 14,
   "id": "ad60ef67",
   "metadata": {},
   "outputs": [
    {
     "data": {
      "text/plain": [
       "15"
      ]
     },
     "execution_count": 14,
     "metadata": {},
     "output_type": "execute_result"
    }
   ],
   "source": [
    "info.get('Roll No') # shpwing rollno"
   ]
  },
  {
   "cell_type": "markdown",
   "id": "13a472fe",
   "metadata": {},
   "source": [
    "# Tuples"
   ]
  },
  {
   "cell_type": "code",
   "execution_count": 15,
   "id": "1e533b46",
   "metadata": {},
   "outputs": [],
   "source": [
    "x=(1,2,1,1,3,'hi')"
   ]
  },
  {
   "cell_type": "code",
   "execution_count": 16,
   "id": "6e2fcad5",
   "metadata": {},
   "outputs": [
    {
     "data": {
      "text/plain": [
       "1"
      ]
     },
     "execution_count": 16,
     "metadata": {},
     "output_type": "execute_result"
    }
   ],
   "source": [
    "x.count(1) # seeing how many times 1 is being repeated"
   ]
  },
  {
   "cell_type": "code",
   "execution_count": 19,
   "id": "25f12849",
   "metadata": {},
   "outputs": [
    {
     "data": {
      "text/plain": [
       "1"
      ]
     },
     "execution_count": 19,
     "metadata": {},
     "output_type": "execute_result"
    }
   ],
   "source": [
    "x[0] #seeing what element is in 0 index"
   ]
  },
  {
   "cell_type": "code",
   "execution_count": 21,
   "id": "bf7e06d8",
   "metadata": {},
   "outputs": [
    {
     "data": {
      "text/plain": [
       "2"
      ]
     },
     "execution_count": 21,
     "metadata": {},
     "output_type": "execute_result"
    }
   ],
   "source": [
    "x[1]# seeing what element is in 1 index"
   ]
  },
  {
   "cell_type": "code",
   "execution_count": null,
   "id": "d71e1048",
   "metadata": {},
   "outputs": [],
   "source": []
  }
 ],
 "metadata": {
  "kernelspec": {
   "display_name": "Python 3 (ipykernel)",
   "language": "python",
   "name": "python3"
  },
  "language_info": {
   "codemirror_mode": {
    "name": "ipython",
    "version": 3
   },
   "file_extension": ".py",
   "mimetype": "text/x-python",
   "name": "python",
   "nbconvert_exporter": "python",
   "pygments_lexer": "ipython3",
   "version": "3.11.1"
  }
 },
 "nbformat": 4,
 "nbformat_minor": 5
}
