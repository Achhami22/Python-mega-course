{
 "cells": [
  {
   "cell_type": "markdown",
   "id": "f142d7c4",
   "metadata": {},
   "source": [
    "# Questions"
   ]
  },
  {
   "cell_type": "markdown",
   "id": "b3642db7",
   "metadata": {},
   "source": [
    "Calculate the sum of all numbers from 1 to a given number"
   ]
  },
  {
   "cell_type": "code",
   "execution_count": 1,
   "id": "f794b27b",
   "metadata": {},
   "outputs": [
    {
     "name": "stdout",
     "output_type": "stream",
     "text": [
      "Enter a number: 3\n",
      "The sum is  6\n"
     ]
    }
   ],
   "source": [
    "x=int(input('Enter a number: '))\n",
    "sum=0\n",
    "for i in range(1,x+1):\n",
    "    sum+=i\n",
    "print('The sum is ',sum)"
   ]
  },
  {
   "cell_type": "code",
   "execution_count": 2,
   "id": "a668cb27",
   "metadata": {},
   "outputs": [
    {
     "name": "stdout",
     "output_type": "stream",
     "text": [
      "Enter a number: 34\n",
      "The sum is  595.0\n"
     ]
    }
   ],
   "source": [
    "n=int(input('Enter a number: '))\n",
    "sum=(n*(n+1))/2\n",
    "print('The sum is ',sum)"
   ]
  },
  {
   "cell_type": "markdown",
   "id": "13913c61",
   "metadata": {},
   "source": [
    "Write a program to display all prime numbers within a range."
   ]
  },
  {
   "cell_type": "code",
   "execution_count": 7,
   "id": "8570230c",
   "metadata": {},
   "outputs": [
    {
     "name": "stdout",
     "output_type": "stream",
     "text": [
      "Enter lower value: 25\n",
      "Enter upper value: 125\n"
     ]
    }
   ],
   "source": [
    "l_value=int(input('Enter lower value: '))\n",
    "u_value=int(input('Enter upper value: '))"
   ]
  },
  {
   "cell_type": "code",
   "execution_count": 9,
   "id": "f4d539af",
   "metadata": {},
   "outputs": [
    {
     "name": "stdout",
     "output_type": "stream",
     "text": [
      "29 31 37 41 43 47 53 59 61 67 71 73 79 83 89 97 101 103 107 109 113 "
     ]
    }
   ],
   "source": [
    "for i in range(l_value,u_value+1):\n",
    "    for j in range (2,i):\n",
    "        if i%j==0:\n",
    "            break\n",
    "    else:\n",
    "        print(i,end=' ')"
   ]
  },
  {
   "cell_type": "markdown",
   "id": "8015530e",
   "metadata": {},
   "source": [
    "10. Display Fibonacci series up to 10 terms."
   ]
  },
  {
   "cell_type": "code",
   "execution_count": 10,
   "id": "8d6c1d6d",
   "metadata": {},
   "outputs": [
    {
     "name": "stdout",
     "output_type": "stream",
     "text": [
      "Enter a number of terms:20\n"
     ]
    }
   ],
   "source": [
    "n=int(input('Enter a number of terms:'))"
   ]
  },
  {
   "cell_type": "code",
   "execution_count": 12,
   "id": "281c124f",
   "metadata": {},
   "outputs": [
    {
     "name": "stdout",
     "output_type": "stream",
     "text": [
      "0 1 1 2 3 5 8 13 21 34 55 89 144 233 377 610 987 1597 2584 4181 "
     ]
    }
   ],
   "source": [
    "x,y=0,1\n",
    "print(x,y,end=' ')\n",
    "for i in range(1,n-1):\n",
    "    nxt=x + y\n",
    "    print(nxt,end=' ')\n",
    "    x=y\n",
    "    y=nxt"
   ]
  },
  {
   "cell_type": "markdown",
   "id": "4fdd5f83",
   "metadata": {},
   "source": [
    "12. Reverse a given integer number "
   ]
  },
  {
   "cell_type": "code",
   "execution_count": 18,
   "id": "c0cf94e0",
   "metadata": {},
   "outputs": [
    {
     "name": "stdout",
     "output_type": "stream",
     "text": [
      "Enter a number:12345\n",
      "Reverse number =  54321\n"
     ]
    }
   ],
   "source": [
    "num=int(input('Enter a number:'))\n",
    "rev_num = 0\n",
    "while num>0:\n",
    "    rem = num%10\n",
    "    rev_num = rev_num*10+rem\n",
    "    num=num//10\n",
    "print('Reverse number = ', rev_num)"
   ]
  },
  {
   "cell_type": "code",
   "execution_count": null,
   "id": "ac45a8fe",
   "metadata": {},
   "outputs": [],
   "source": []
  }
 ],
 "metadata": {
  "kernelspec": {
   "display_name": "Python 3 (ipykernel)",
   "language": "python",
   "name": "python3"
  },
  "language_info": {
   "codemirror_mode": {
    "name": "ipython",
    "version": 3
   },
   "file_extension": ".py",
   "mimetype": "text/x-python",
   "name": "python",
   "nbconvert_exporter": "python",
   "pygments_lexer": "ipython3",
   "version": "3.11.1"
  }
 },
 "nbformat": 4,
 "nbformat_minor": 5
}
