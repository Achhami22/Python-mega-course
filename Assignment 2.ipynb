{
 "cells": [
  {
   "cell_type": "markdown",
   "id": "ca25ebc7",
   "metadata": {},
   "source": [
    "# Python Megha Course"
   ]
  },
  {
   "cell_type": "markdown",
   "id": "0eddf003",
   "metadata": {},
   "source": [
    "Phase I"
   ]
  },
  {
   "cell_type": "markdown",
   "id": "1237dc60",
   "metadata": {},
   "source": [
    "Exercise 3"
   ]
  },
  {
   "cell_type": "markdown",
   "id": "627c56fc",
   "metadata": {},
   "source": [
    "# 1. Create a function in Python "
   ]
  },
  {
   "cell_type": "markdown",
   "id": "d3b0d3c5",
   "metadata": {},
   "source": [
    " Write a program to create a function that takes two arguments, name and age, and print their value. \n"
   ]
  },
  {
   "cell_type": "code",
   "execution_count": 10,
   "id": "f77f380e",
   "metadata": {},
   "outputs": [],
   "source": [
    "# demo is the function name\n",
    "def demo(name, age):\n",
    "    # print value\n",
    "    print(name, age)"
   ]
  },
  {
   "cell_type": "code",
   "execution_count": 2,
   "id": "d544c72b",
   "metadata": {},
   "outputs": [
    {
     "name": "stdout",
     "output_type": "stream",
     "text": [
      "Ben 25\n"
     ]
    }
   ],
   "source": [
    "# call function\n",
    "demo(\"Ben\", 25)"
   ]
  },
  {
   "cell_type": "markdown",
   "id": "9a72f034",
   "metadata": {},
   "source": [
    "# 2. Create a function with variable length of arguments"
   ]
  },
  {
   "cell_type": "markdown",
   "id": "b7bfcf87",
   "metadata": {},
   "source": [
    "Write a program to create function func1() to accept a variable length of arguments and print their value"
   ]
  },
  {
   "cell_type": "code",
   "execution_count": 11,
   "id": "1c9f5e3c",
   "metadata": {},
   "outputs": [],
   "source": [
    "def func1(*args):\n",
    "    for i in args:\n",
    "        print(i)\n",
    "\n"
   ]
  },
  {
   "cell_type": "code",
   "execution_count": 12,
   "id": "781e709d",
   "metadata": {},
   "outputs": [
    {
     "name": "stdout",
     "output_type": "stream",
     "text": [
      "20\n",
      "30\n"
     ]
    }
   ],
   "source": [
    "func1(20,30)"
   ]
  },
  {
   "cell_type": "markdown",
   "id": "bd4eb581",
   "metadata": {},
   "source": [
    "# 3. Return multiple values from a function"
   ]
  },
  {
   "cell_type": "markdown",
   "id": "88f89fa2",
   "metadata": {},
   "source": [
    "Write a program to create function calculation () such that it can accept two variables and calculate addition\n",
    "and subtraction. Also, it must return both addition and subtraction in a single return call."
   ]
  },
  {
   "cell_type": "code",
   "execution_count": 13,
   "id": "fd5f9ac9",
   "metadata": {},
   "outputs": [
    {
     "name": "stdout",
     "output_type": "stream",
     "text": [
      "(50, 30)\n"
     ]
    }
   ],
   "source": [
    "#method 1\n",
    "def calculation(a, b):\n",
    "    addition = a + b\n",
    "    subtraction = a - b\n",
    "    # return multiple values separated by comma\n",
    "    return addition, subtraction\n",
    "\n",
    "# get result in tuple format\n",
    "res = calculation(40, 10)\n",
    "print(res)"
   ]
  },
  {
   "cell_type": "code",
   "execution_count": 1,
   "id": "b93d2a6c",
   "metadata": {},
   "outputs": [
    {
     "name": "stdout",
     "output_type": "stream",
     "text": [
      "50 30\n"
     ]
    }
   ],
   "source": [
    "#method 2\n",
    "def calculation(a, b):\n",
    "    return a + b, a - b\n",
    "\n",
    "# get result in tuple format\n",
    "# unpack tuple\n",
    "add, sub = calculation(40, 10)\n",
    "print(add, sub)"
   ]
  },
  {
   "cell_type": "markdown",
   "id": "e9be68b1",
   "metadata": {},
   "source": [
    "# 4. Create a function with a default argument "
   ]
  },
  {
   "cell_type": "markdown",
   "id": "b98bad98",
   "metadata": {},
   "source": [
    " Write a program to create a function show employee() using the following conditions.\n"
   ]
  },
  {
   "cell_type": "markdown",
   "id": "30a4bae1",
   "metadata": {},
   "source": [
    "It should accept the employee’s name and salary and display both."
   ]
  },
  {
   "cell_type": "markdown",
   "id": "cb56fba3",
   "metadata": {},
   "source": [
    "If the salary is missing in the function call then assign default value 9000 to salary "
   ]
  },
  {
   "cell_type": "code",
   "execution_count": 16,
   "id": "f4be8210",
   "metadata": {},
   "outputs": [
    {
     "ename": "SyntaxError",
     "evalue": "expected '(' (971095656.py, line 1)",
     "output_type": "error",
     "traceback": [
      "\u001b[1;36m  Cell \u001b[1;32mIn[16], line 1\u001b[1;36m\u001b[0m\n\u001b[1;33m    def show employee(name, salary=9000):\u001b[0m\n\u001b[1;37m             ^\u001b[0m\n\u001b[1;31mSyntaxError\u001b[0m\u001b[1;31m:\u001b[0m expected '('\n"
     ]
    }
   ],
   "source": [
    "def show employee(name, salary=9000):\n",
    "    print(\"Name:\", name, \"salary:\", salary)\n",
    "\n",
    "show_employee(\"Ben\", 12000)\n",
    "show_employee(\"Jessa\")"
   ]
  },
  {
   "cell_type": "markdown",
   "id": "c721e9b1",
   "metadata": {},
   "source": [
    "# 5. Create an inner function to calculate the addition in the following way"
   ]
  },
  {
   "cell_type": "markdown",
   "id": "3bcd08af",
   "metadata": {},
   "source": [
    "Create an outer function that will accept two parameters, a and b.\n",
    "\n",
    "Create an inner function inside an outer function that will calculate the addition of a and b.\n",
    "\n",
    "At last, an outer function will add 5 into addition and return it "
   ]
  },
  {
   "cell_type": "code",
   "execution_count": 1,
   "id": "4fbc9ea4",
   "metadata": {},
   "outputs": [
    {
     "name": "stdout",
     "output_type": "stream",
     "text": [
      "20\n"
     ]
    }
   ],
   "source": [
    "# outer function\n",
    "def outer_fun(a, b):\n",
    "    square = a ** 2\n",
    "\n",
    "    # inner function\n",
    "    def addition(a, b):\n",
    "        return a + b\n",
    "\n",
    "    # call inner function from outer function\n",
    "    add = addition(a, b)\n",
    "    # add 5 to the result\n",
    "    return add + 5\n",
    "\n",
    "result = outer_fun(5, 10)\n",
    "print(result)"
   ]
  },
  {
   "cell_type": "code",
   "execution_count": null,
   "id": "2ccbea5d",
   "metadata": {},
   "outputs": [],
   "source": []
  },
  {
   "cell_type": "markdown",
   "id": "e32a5335",
   "metadata": {},
   "source": [
    "# 6. Create a recursive function "
   ]
  },
  {
   "cell_type": "markdown",
   "id": "50f627d9",
   "metadata": {},
   "source": [
    "Write a program to create a recursive function to calculate the sum of numbers from 0 to 10. \n"
   ]
  },
  {
   "cell_type": "code",
   "execution_count": 17,
   "id": "8ebeb1fe",
   "metadata": {},
   "outputs": [
    {
     "name": "stdout",
     "output_type": "stream",
     "text": [
      "55\n"
     ]
    }
   ],
   "source": [
    "def addition(num):\n",
    "    if num:\n",
    "        # call same function by reducing number by 1\n",
    "        return num + addition(num - 1)\n",
    "    else:\n",
    "        return 0\n",
    "\n",
    "res = addition(10)\n",
    "print(res)"
   ]
  },
  {
   "cell_type": "code",
   "execution_count": null,
   "id": "4b3ea18e",
   "metadata": {},
   "outputs": [],
   "source": []
  },
  {
   "cell_type": "markdown",
   "id": "8d237ea2",
   "metadata": {},
   "source": [
    " A recursive function is a function that calls itself again and again"
   ]
  },
  {
   "cell_type": "code",
   "execution_count": null,
   "id": "bca8de7a",
   "metadata": {},
   "outputs": [],
   "source": []
  },
  {
   "cell_type": "code",
   "execution_count": null,
   "id": "a4262604",
   "metadata": {},
   "outputs": [],
   "source": []
  },
  {
   "cell_type": "markdown",
   "id": "d66cecc1",
   "metadata": {},
   "source": [
    "# 7. Assign a different name to function and call it through the new name"
   ]
  },
  {
   "cell_type": "code",
   "execution_count": 18,
   "id": "7377cbee",
   "metadata": {},
   "outputs": [
    {
     "name": "stdout",
     "output_type": "stream",
     "text": [
      "Emma 26\n",
      "Emma 26\n"
     ]
    }
   ],
   "source": [
    "def display_student(name, age):\n",
    "    print(name, age)\n",
    "\n",
    "# call using original name\n",
    "display_student(\"Emma\", 26)\n",
    "\n",
    "# assign new name\n",
    "showStudent = display_student\n",
    "# call using new name\n",
    "showStudent(\"Emma\", 26)"
   ]
  },
  {
   "cell_type": "markdown",
   "id": "dfb598ea",
   "metadata": {},
   "source": [
    "8. Generate a Python list of all the even numbers between 4 to 30 "
   ]
  },
  {
   "cell_type": "code",
   "execution_count": 19,
   "id": "fd2b43ea",
   "metadata": {},
   "outputs": [
    {
     "name": "stdout",
     "output_type": "stream",
     "text": [
      "[4, 6, 8, 10, 12, 14, 16, 18, 20, 22, 24, 26, 28]\n"
     ]
    }
   ],
   "source": [
    "print(list(range(4, 30, 2)))"
   ]
  },
  {
   "cell_type": "markdown",
   "id": "2949128c",
   "metadata": {},
   "source": [
    "9. Find the largest item from a given list"
   ]
  },
  {
   "cell_type": "markdown",
   "id": "e338daae",
   "metadata": {},
   "source": [
    "x = [4, 6, 8, 24, 12, 2]"
   ]
  },
  {
   "cell_type": "code",
   "execution_count": null,
   "id": "b5f0e680",
   "metadata": {},
   "outputs": [],
   "source": []
  },
  {
   "cell_type": "code",
   "execution_count": null,
   "id": "a374b0b3",
   "metadata": {},
   "outputs": [],
   "source": []
  }
 ],
 "metadata": {
  "kernelspec": {
   "display_name": "Python 3 (ipykernel)",
   "language": "python",
   "name": "python3"
  },
  "language_info": {
   "codemirror_mode": {
    "name": "ipython",
    "version": 3
   },
   "file_extension": ".py",
   "mimetype": "text/x-python",
   "name": "python",
   "nbconvert_exporter": "python",
   "pygments_lexer": "ipython3",
   "version": "3.11.1"
  }
 },
 "nbformat": 4,
 "nbformat_minor": 5
}
