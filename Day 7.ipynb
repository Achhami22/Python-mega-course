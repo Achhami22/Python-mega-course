{
 "cells": [
  {
   "cell_type": "markdown",
   "id": "304eba62",
   "metadata": {},
   "source": [
    "# FUNCTION"
   ]
  },
  {
   "cell_type": "code",
   "execution_count": 3,
   "id": "4e427bec",
   "metadata": {},
   "outputs": [],
   "source": [
    "def welcome(): # defining function\n",
    "    print('Hello Hex') #printing function"
   ]
  },
  {
   "cell_type": "code",
   "execution_count": 4,
   "id": "fc32b24d",
   "metadata": {},
   "outputs": [
    {
     "name": "stdout",
     "output_type": "stream",
     "text": [
      "Hello Hex\n"
     ]
    }
   ],
   "source": [
    "welcome() #calling function"
   ]
  },
  {
   "cell_type": "code",
   "execution_count": 5,
   "id": "c448f10e",
   "metadata": {},
   "outputs": [],
   "source": [
    "def addition(x,y):\n",
    "    res = x+y\n",
    "    return res"
   ]
  },
  {
   "cell_type": "code",
   "execution_count": 6,
   "id": "a6510a71",
   "metadata": {},
   "outputs": [
    {
     "data": {
      "text/plain": [
       "5"
      ]
     },
     "execution_count": 6,
     "metadata": {},
     "output_type": "execute_result"
    }
   ],
   "source": [
    "addition(2,3)"
   ]
  },
  {
   "cell_type": "code",
   "execution_count": 24,
   "id": "01138ffb",
   "metadata": {},
   "outputs": [],
   "source": [
    "def fact(n): #Recursive function\n",
    "    if n==1:\n",
    "        return 1\n",
    "    else:\n",
    "        return n*fact(n-1)"
   ]
  },
  {
   "cell_type": "code",
   "execution_count": 25,
   "id": "57bdae68",
   "metadata": {},
   "outputs": [
    {
     "data": {
      "text/plain": [
       "120"
      ]
     },
     "execution_count": 25,
     "metadata": {},
     "output_type": "execute_result"
    }
   ],
   "source": [
    "fact(5)"
   ]
  },
  {
   "cell_type": "code",
   "execution_count": 26,
   "id": "eac24c43",
   "metadata": {},
   "outputs": [],
   "source": [
    "def fact(n): #Basic method\n",
    "    res=1\n",
    "    for i in range(1,n+1):\n",
    "        res=res*i\n",
    "    return res"
   ]
  },
  {
   "cell_type": "code",
   "execution_count": 27,
   "id": "62787dae",
   "metadata": {},
   "outputs": [
    {
     "data": {
      "text/plain": [
       "6"
      ]
     },
     "execution_count": 27,
     "metadata": {},
     "output_type": "execute_result"
    }
   ],
   "source": [
    "fact(3)"
   ]
  },
  {
   "cell_type": "markdown",
   "id": "3ad530e4",
   "metadata": {},
   "source": [
    "# Recursive Function"
   ]
  },
  {
   "cell_type": "code",
   "execution_count": 35,
   "id": "fdbbeac3",
   "metadata": {},
   "outputs": [],
   "source": [
    "def fact(n): #Recursive function\n",
    "    if n==1:\n",
    "        return 1\n",
    "    else:\n",
    "        return n*fact(n-1)"
   ]
  },
  {
   "cell_type": "code",
   "execution_count": 36,
   "id": "8378e978",
   "metadata": {},
   "outputs": [
    {
     "data": {
      "text/plain": [
       "5040"
      ]
     },
     "execution_count": 36,
     "metadata": {},
     "output_type": "execute_result"
    }
   ],
   "source": [
    "fact(7)"
   ]
  },
  {
   "cell_type": "code",
   "execution_count": 8,
   "id": "746302f0",
   "metadata": {},
   "outputs": [],
   "source": [
    "def prime(l_value,u_value):\n",
    "    for i in range(l_value,u_value+1):\n",
    "        for j in range (2,i):\n",
    "            if i%j==0:\n",
    "                break\n",
    "        else:\n",
    "            print(i,end=' ')"
   ]
  },
  {
   "cell_type": "code",
   "execution_count": 9,
   "id": "5437da00",
   "metadata": {},
   "outputs": [
    {
     "name": "stdout",
     "output_type": "stream",
     "text": [
      "23 29 31 37 41 43 47 "
     ]
    }
   ],
   "source": [
    "prime(23,50)"
   ]
  },
  {
   "cell_type": "code",
   "execution_count": null,
   "id": "e3096a3b",
   "metadata": {},
   "outputs": [],
   "source": []
  }
 ],
 "metadata": {
  "kernelspec": {
   "display_name": "Python 3 (ipykernel)",
   "language": "python",
   "name": "python3"
  },
  "language_info": {
   "codemirror_mode": {
    "name": "ipython",
    "version": 3
   },
   "file_extension": ".py",
   "mimetype": "text/x-python",
   "name": "python",
   "nbconvert_exporter": "python",
   "pygments_lexer": "ipython3",
   "version": "3.11.1"
  }
 },
 "nbformat": 4,
 "nbformat_minor": 5
}
