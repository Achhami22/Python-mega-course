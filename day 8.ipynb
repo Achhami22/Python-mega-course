{
 "cells": [
  {
   "cell_type": "markdown",
   "id": "f07371d1",
   "metadata": {},
   "source": [
    "# LAMBDA FUNCTION"
   ]
  },
  {
   "cell_type": "code",
   "execution_count": 2,
   "id": "1b98b763",
   "metadata": {},
   "outputs": [],
   "source": [
    "add = lambda x,y:x+y"
   ]
  },
  {
   "cell_type": "code",
   "execution_count": 3,
   "id": "a5979b87",
   "metadata": {},
   "outputs": [
    {
     "data": {
      "text/plain": [
       "7"
      ]
     },
     "execution_count": 3,
     "metadata": {},
     "output_type": "execute_result"
    }
   ],
   "source": [
    "add(2,5)"
   ]
  },
  {
   "cell_type": "markdown",
   "id": "16472550",
   "metadata": {},
   "source": [
    "Syntax: function_name = lamdba arguments expressions"
   ]
  },
  {
   "cell_type": "code",
   "execution_count": 4,
   "id": "02dcc069",
   "metadata": {},
   "outputs": [],
   "source": [
    "f_name = lambda first,middle,last:first+' '+middle+' '+last"
   ]
  },
  {
   "cell_type": "code",
   "execution_count": 5,
   "id": "1a7bc88c",
   "metadata": {},
   "outputs": [
    {
     "data": {
      "text/plain": [
       "'Shiv Shankar  Sah'"
      ]
     },
     "execution_count": 5,
     "metadata": {},
     "output_type": "execute_result"
    }
   ],
   "source": [
    "f_name('Shiv','Shankar ','Sah')"
   ]
  },
  {
   "cell_type": "markdown",
   "id": "33efed14",
   "metadata": {},
   "source": [
    "Display the sum of first natural numbers using lambda function"
   ]
  },
  {
   "cell_type": "code",
   "execution_count": 1,
   "id": "cade36cf",
   "metadata": {},
   "outputs": [],
   "source": [
    "sum_n = lambda n:(n*(n+1))/2"
   ]
  },
  {
   "cell_type": "code",
   "execution_count": 2,
   "id": "f4a8a26a",
   "metadata": {},
   "outputs": [
    {
     "data": {
      "text/plain": [
       "55.0"
      ]
     },
     "execution_count": 2,
     "metadata": {},
     "output_type": "execute_result"
    }
   ],
   "source": [
    "sum_n(10)"
   ]
  },
  {
   "cell_type": "code",
   "execution_count": 4,
   "id": "09956699",
   "metadata": {},
   "outputs": [
    {
     "name": "stdout",
     "output_type": "stream",
     "text": [
      "Enter Number :23\n"
     ]
    },
    {
     "data": {
      "text/plain": [
       "276.0"
      ]
     },
     "execution_count": 4,
     "metadata": {},
     "output_type": "execute_result"
    }
   ],
   "source": [
    "n= int(input('Enter Number :'))\n",
    "sum_n(n)"
   ]
  },
  {
   "cell_type": "code",
   "execution_count": null,
   "id": "c9ad4f45",
   "metadata": {},
   "outputs": [],
   "source": [
    "x='SABINA'"
   ]
  }
 ],
 "metadata": {
  "kernelspec": {
   "display_name": "Python 3 (ipykernel)",
   "language": "python",
   "name": "python3"
  },
  "language_info": {
   "codemirror_mode": {
    "name": "ipython",
    "version": 3
   },
   "file_extension": ".py",
   "mimetype": "text/x-python",
   "name": "python",
   "nbconvert_exporter": "python",
   "pygments_lexer": "ipython3",
   "version": "3.11.1"
  }
 },
 "nbformat": 4,
 "nbformat_minor": 5
}
