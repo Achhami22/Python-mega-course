{
 "cells": [
  {
   "cell_type": "markdown",
   "id": "1504f876",
   "metadata": {},
   "source": [
    "# Operators"
   ]
  },
  {
   "cell_type": "markdown",
   "id": "2453e283",
   "metadata": {},
   "source": [
    "Arthemetic operators"
   ]
  },
  {
   "cell_type": "code",
   "execution_count": 23,
   "id": "00a32158",
   "metadata": {},
   "outputs": [
    {
     "name": "stdout",
     "output_type": "stream",
     "text": [
      "Enter first number5\n",
      "Enter second number6\n"
     ]
    }
   ],
   "source": [
    "x= float(input(\"Enter first number\"))\n",
    "y= float(input(\"Enter second number\"))"
   ]
  },
  {
   "cell_type": "code",
   "execution_count": 55,
   "id": "02c08a39",
   "metadata": {},
   "outputs": [],
   "source": [
    "add =x+y\n",
    "sub =x-y\n",
    "mul = x*y\n",
    "div1 =x/y\n",
    "div2 =x//y\n",
    "exp = x**y\n",
    "mod = x%y"
   ]
  },
  {
   "cell_type": "code",
   "execution_count": 56,
   "id": "86ceff87",
   "metadata": {},
   "outputs": [
    {
     "data": {
      "text/plain": [
       "7.0"
      ]
     },
     "execution_count": 56,
     "metadata": {},
     "output_type": "execute_result"
    }
   ],
   "source": [
    "add"
   ]
  },
  {
   "cell_type": "code",
   "execution_count": 57,
   "id": "c0a82580",
   "metadata": {},
   "outputs": [
    {
     "data": {
      "text/plain": [
       "-5.0"
      ]
     },
     "execution_count": 57,
     "metadata": {},
     "output_type": "execute_result"
    }
   ],
   "source": [
    "sub"
   ]
  },
  {
   "cell_type": "code",
   "execution_count": 58,
   "id": "30de215f",
   "metadata": {},
   "outputs": [
    {
     "data": {
      "text/plain": [
       "6.0"
      ]
     },
     "execution_count": 58,
     "metadata": {},
     "output_type": "execute_result"
    }
   ],
   "source": [
    "mul"
   ]
  },
  {
   "cell_type": "code",
   "execution_count": 59,
   "id": "bce2895f",
   "metadata": {},
   "outputs": [
    {
     "data": {
      "text/plain": [
       "0.16666666666666666"
      ]
     },
     "execution_count": 59,
     "metadata": {},
     "output_type": "execute_result"
    }
   ],
   "source": [
    "div1"
   ]
  },
  {
   "cell_type": "code",
   "execution_count": 60,
   "id": "8db30381",
   "metadata": {},
   "outputs": [
    {
     "data": {
      "text/plain": [
       "0.0"
      ]
     },
     "execution_count": 60,
     "metadata": {},
     "output_type": "execute_result"
    }
   ],
   "source": [
    "div2"
   ]
  },
  {
   "cell_type": "code",
   "execution_count": 61,
   "id": "b28731c1",
   "metadata": {},
   "outputs": [
    {
     "data": {
      "text/plain": [
       "1.0"
      ]
     },
     "execution_count": 61,
     "metadata": {},
     "output_type": "execute_result"
    }
   ],
   "source": [
    "exp"
   ]
  },
  {
   "cell_type": "code",
   "execution_count": 62,
   "id": "712c4937",
   "metadata": {},
   "outputs": [
    {
     "data": {
      "text/plain": [
       "1.0"
      ]
     },
     "execution_count": 62,
     "metadata": {},
     "output_type": "execute_result"
    }
   ],
   "source": [
    "mod"
   ]
  },
  {
   "cell_type": "markdown",
   "id": "ab7a0407",
   "metadata": {},
   "source": [
    "Assignment Operators"
   ]
  },
  {
   "cell_type": "code",
   "execution_count": 63,
   "id": "2cc3ea50",
   "metadata": {},
   "outputs": [
    {
     "name": "stdout",
     "output_type": "stream",
     "text": [
      "Enter the number: 5\n"
     ]
    }
   ],
   "source": [
    "x=int(input('Enter the number: '))"
   ]
  },
  {
   "cell_type": "code",
   "execution_count": 44,
   "id": "7b69e1ce",
   "metadata": {},
   "outputs": [],
   "source": [
    "x+=4"
   ]
  },
  {
   "cell_type": "code",
   "execution_count": 45,
   "id": "d9dac9f2",
   "metadata": {},
   "outputs": [
    {
     "data": {
      "text/plain": [
       "9"
      ]
     },
     "execution_count": 45,
     "metadata": {},
     "output_type": "execute_result"
    }
   ],
   "source": [
    "x"
   ]
  },
  {
   "cell_type": "code",
   "execution_count": 46,
   "id": "5d8a7b77",
   "metadata": {},
   "outputs": [],
   "source": [
    "x-=5"
   ]
  },
  {
   "cell_type": "code",
   "execution_count": 47,
   "id": "9590f491",
   "metadata": {},
   "outputs": [
    {
     "data": {
      "text/plain": [
       "4"
      ]
     },
     "execution_count": 47,
     "metadata": {},
     "output_type": "execute_result"
    }
   ],
   "source": [
    "x"
   ]
  },
  {
   "cell_type": "code",
   "execution_count": 48,
   "id": "aa0172f7",
   "metadata": {},
   "outputs": [],
   "source": [
    "x*=5"
   ]
  },
  {
   "cell_type": "code",
   "execution_count": 49,
   "id": "30729162",
   "metadata": {},
   "outputs": [
    {
     "data": {
      "text/plain": [
       "20"
      ]
     },
     "execution_count": 49,
     "metadata": {},
     "output_type": "execute_result"
    }
   ],
   "source": [
    "x"
   ]
  },
  {
   "cell_type": "code",
   "execution_count": 50,
   "id": "954f0c4d",
   "metadata": {},
   "outputs": [],
   "source": [
    "x/=4"
   ]
  },
  {
   "cell_type": "code",
   "execution_count": 51,
   "id": "9fa8b5d1",
   "metadata": {},
   "outputs": [
    {
     "data": {
      "text/plain": [
       "5.0"
      ]
     },
     "execution_count": 51,
     "metadata": {},
     "output_type": "execute_result"
    }
   ],
   "source": [
    "x"
   ]
  },
  {
   "cell_type": "code",
   "execution_count": 52,
   "id": "f68780fe",
   "metadata": {},
   "outputs": [],
   "source": [
    "x%=2"
   ]
  },
  {
   "cell_type": "code",
   "execution_count": 53,
   "id": "35613d16",
   "metadata": {},
   "outputs": [
    {
     "data": {
      "text/plain": [
       "1.0"
      ]
     },
     "execution_count": 53,
     "metadata": {},
     "output_type": "execute_result"
    }
   ],
   "source": [
    "x"
   ]
  },
  {
   "cell_type": "code",
   "execution_count": 54,
   "id": "dfd427cf",
   "metadata": {},
   "outputs": [
    {
     "data": {
      "text/plain": [
       "1.0"
      ]
     },
     "execution_count": 54,
     "metadata": {},
     "output_type": "execute_result"
    }
   ],
   "source": [
    "x**5"
   ]
  },
  {
   "cell_type": "markdown",
   "id": "d3f0e022",
   "metadata": {},
   "source": [
    "Comparison operators"
   ]
  },
  {
   "cell_type": "code",
   "execution_count": 64,
   "id": "c38102d3",
   "metadata": {},
   "outputs": [
    {
     "name": "stdout",
     "output_type": "stream",
     "text": [
      "Enter first number19\n",
      "Enter second number24\n"
     ]
    }
   ],
   "source": [
    "a= float(input(\"Enter first number\"))\n",
    "b= float(input(\"Enter second number\"))"
   ]
  },
  {
   "cell_type": "code",
   "execution_count": 75,
   "id": "02f56787",
   "metadata": {},
   "outputs": [
    {
     "data": {
      "text/plain": [
       "False"
      ]
     },
     "execution_count": 75,
     "metadata": {},
     "output_type": "execute_result"
    }
   ],
   "source": [
    "a==b #equals to "
   ]
  },
  {
   "cell_type": "code",
   "execution_count": 76,
   "id": "6c408f76",
   "metadata": {},
   "outputs": [
    {
     "data": {
      "text/plain": [
       "False"
      ]
     },
     "execution_count": 76,
     "metadata": {},
     "output_type": "execute_result"
    }
   ],
   "source": [
    "a>b #greater than"
   ]
  },
  {
   "cell_type": "code",
   "execution_count": 77,
   "id": "625191d6",
   "metadata": {},
   "outputs": [
    {
     "data": {
      "text/plain": [
       "True"
      ]
     },
     "execution_count": 77,
     "metadata": {},
     "output_type": "execute_result"
    }
   ],
   "source": [
    "a<b #less than"
   ]
  },
  {
   "cell_type": "code",
   "execution_count": 78,
   "id": "8902ac47",
   "metadata": {},
   "outputs": [
    {
     "data": {
      "text/plain": [
       "True"
      ]
     },
     "execution_count": 78,
     "metadata": {},
     "output_type": "execute_result"
    }
   ],
   "source": [
    "a!=b #Not equals to"
   ]
  },
  {
   "cell_type": "code",
   "execution_count": 87,
   "id": "3cf6eb6b",
   "metadata": {},
   "outputs": [
    {
     "data": {
      "text/plain": [
       "False"
      ]
     },
     "execution_count": 87,
     "metadata": {},
     "output_type": "execute_result"
    }
   ],
   "source": [
    "a>=b #greater equal to"
   ]
  },
  {
   "cell_type": "code",
   "execution_count": 82,
   "id": "5eb25dd3",
   "metadata": {},
   "outputs": [
    {
     "data": {
      "text/plain": [
       "True"
      ]
     },
     "execution_count": 82,
     "metadata": {},
     "output_type": "execute_result"
    }
   ],
   "source": [
    "a<=b #less equal to"
   ]
  },
  {
   "cell_type": "markdown",
   "id": "530cb3e6",
   "metadata": {},
   "source": [
    "Logical Operators"
   ]
  },
  {
   "cell_type": "code",
   "execution_count": 84,
   "id": "9a6dfc57",
   "metadata": {},
   "outputs": [
    {
     "data": {
      "text/plain": [
       "False"
      ]
     },
     "execution_count": 84,
     "metadata": {},
     "output_type": "execute_result"
    }
   ],
   "source": [
    "2<3 and 1<0 #And operator"
   ]
  },
  {
   "cell_type": "code",
   "execution_count": 85,
   "id": "a8c42565",
   "metadata": {},
   "outputs": [
    {
     "data": {
      "text/plain": [
       "False"
      ]
     },
     "execution_count": 85,
     "metadata": {},
     "output_type": "execute_result"
    }
   ],
   "source": [
    "x>10 or y>50 #OR operator"
   ]
  },
  {
   "cell_type": "code",
   "execution_count": 86,
   "id": "e8b3b7f3",
   "metadata": {},
   "outputs": [
    {
     "data": {
      "text/plain": [
       "True"
      ]
     },
     "execution_count": 86,
     "metadata": {},
     "output_type": "execute_result"
    }
   ],
   "source": [
    "not (2<3 and 1<0 ) #Not operators"
   ]
  },
  {
   "cell_type": "markdown",
   "id": "768e04b7",
   "metadata": {},
   "source": [
    "# Data Types"
   ]
  },
  {
   "cell_type": "markdown",
   "id": "fe534409",
   "metadata": {},
   "source": [
    "String"
   ]
  },
  {
   "cell_type": "code",
   "execution_count": 88,
   "id": "64d8240e",
   "metadata": {},
   "outputs": [],
   "source": [
    "x='I am a Python Developer'"
   ]
  },
  {
   "cell_type": "code",
   "execution_count": 89,
   "id": "b5c7b8e1",
   "metadata": {},
   "outputs": [
    {
     "data": {
      "text/plain": [
       "23"
      ]
     },
     "execution_count": 89,
     "metadata": {},
     "output_type": "execute_result"
    }
   ],
   "source": [
    "len(x)"
   ]
  },
  {
   "cell_type": "code",
   "execution_count": 93,
   "id": "921601fb",
   "metadata": {},
   "outputs": [
    {
     "data": {
      "text/plain": [
       "'P'"
      ]
     },
     "execution_count": 93,
     "metadata": {},
     "output_type": "execute_result"
    }
   ],
   "source": [
    "x[7]"
   ]
  },
  {
   "cell_type": "code",
   "execution_count": 94,
   "id": "f9452c47",
   "metadata": {},
   "outputs": [
    {
     "data": {
      "text/plain": [
       "'Python'"
      ]
     },
     "execution_count": 94,
     "metadata": {},
     "output_type": "execute_result"
    }
   ],
   "source": [
    "x[7:13] "
   ]
  },
  {
   "cell_type": "code",
   "execution_count": 97,
   "id": "a0034d8a",
   "metadata": {},
   "outputs": [
    {
     "data": {
      "text/plain": [
       "'Developer'"
      ]
     },
     "execution_count": 97,
     "metadata": {},
     "output_type": "execute_result"
    }
   ],
   "source": [
    "x[14:23]"
   ]
  },
  {
   "cell_type": "code",
   "execution_count": 99,
   "id": "c0ec576d",
   "metadata": {},
   "outputs": [
    {
     "data": {
      "text/plain": [
       "'Python Developer'"
      ]
     },
     "execution_count": 99,
     "metadata": {},
     "output_type": "execute_result"
    }
   ],
   "source": [
    "x[7::]"
   ]
  },
  {
   "cell_type": "code",
   "execution_count": 100,
   "id": "8e2708d2",
   "metadata": {},
   "outputs": [
    {
     "data": {
      "text/plain": [
       "'Developer'"
      ]
     },
     "execution_count": 100,
     "metadata": {},
     "output_type": "execute_result"
    }
   ],
   "source": [
    "x[14::]"
   ]
  },
  {
   "cell_type": "code",
   "execution_count": 102,
   "id": "fc2f0004",
   "metadata": {},
   "outputs": [
    {
     "data": {
      "text/plain": [
       "'r'"
      ]
     },
     "execution_count": 102,
     "metadata": {},
     "output_type": "execute_result"
    }
   ],
   "source": [
    "x[-1] # reverse count"
   ]
  },
  {
   "cell_type": "code",
   "execution_count": 103,
   "id": "0e3fb483",
   "metadata": {},
   "outputs": [
    {
     "data": {
      "text/plain": [
       "'e'"
      ]
     },
     "execution_count": 103,
     "metadata": {},
     "output_type": "execute_result"
    }
   ],
   "source": [
    "x[-2]"
   ]
  },
  {
   "cell_type": "code",
   "execution_count": 104,
   "id": "49568e6a",
   "metadata": {},
   "outputs": [
    {
     "data": {
      "text/plain": [
       "'velope'"
      ]
     },
     "execution_count": 104,
     "metadata": {},
     "output_type": "execute_result"
    }
   ],
   "source": [
    "x[-7:-1]"
   ]
  },
  {
   "cell_type": "code",
   "execution_count": 106,
   "id": "387de9e1",
   "metadata": {},
   "outputs": [
    {
     "data": {
      "text/plain": [
       "'repoleveD nohtyP a ma I'"
      ]
     },
     "execution_count": 106,
     "metadata": {},
     "output_type": "execute_result"
    }
   ],
   "source": [
    "x[::-1] "
   ]
  },
  {
   "cell_type": "code",
   "execution_count": 107,
   "id": "73acc6f5",
   "metadata": {},
   "outputs": [
    {
     "data": {
      "text/plain": [
       "'P'"
      ]
     },
     "execution_count": 107,
     "metadata": {},
     "output_type": "execute_result"
    }
   ],
   "source": [
    "x[7]"
   ]
  },
  {
   "cell_type": "code",
   "execution_count": 1,
   "id": "1655bccb",
   "metadata": {},
   "outputs": [
    {
     "name": "stdout",
     "output_type": "stream",
     "text": [
      "Enter the string :I am a girl\n"
     ]
    }
   ],
   "source": [
    "x=input('Enter the string :')"
   ]
  },
  {
   "cell_type": "code",
   "execution_count": 3,
   "id": "5a1c53dc",
   "metadata": {},
   "outputs": [
    {
     "data": {
      "text/plain": [
       "'lrig a ma I'"
      ]
     },
     "execution_count": 3,
     "metadata": {},
     "output_type": "execute_result"
    }
   ],
   "source": [
    "x[::-1] # Reversing entire string"
   ]
  },
  {
   "cell_type": "code",
   "execution_count": 5,
   "id": "2b9b8607",
   "metadata": {},
   "outputs": [],
   "source": [
    "y=x.split()"
   ]
  },
  {
   "cell_type": "code",
   "execution_count": 6,
   "id": "85b912fe",
   "metadata": {},
   "outputs": [
    {
     "data": {
      "text/plain": [
       "['I', 'am', 'a', 'girl']"
      ]
     },
     "execution_count": 6,
     "metadata": {},
     "output_type": "execute_result"
    }
   ],
   "source": [
    "y"
   ]
  },
  {
   "cell_type": "code",
   "execution_count": 7,
   "id": "e379a722",
   "metadata": {},
   "outputs": [],
   "source": [
    "a='I/am/a/girl'"
   ]
  },
  {
   "cell_type": "code",
   "execution_count": 10,
   "id": "1d0bcc22",
   "metadata": {},
   "outputs": [],
   "source": [
    "b=a.split('/')"
   ]
  },
  {
   "cell_type": "code",
   "execution_count": 11,
   "id": "1b570349",
   "metadata": {},
   "outputs": [
    {
     "data": {
      "text/plain": [
       "['I', 'am', 'a', 'girl']"
      ]
     },
     "execution_count": 11,
     "metadata": {},
     "output_type": "execute_result"
    }
   ],
   "source": [
    "b"
   ]
  },
  {
   "cell_type": "code",
   "execution_count": 12,
   "id": "c5aef2c4",
   "metadata": {},
   "outputs": [
    {
     "data": {
      "text/plain": [
       "'I am a girl'"
      ]
     },
     "execution_count": 12,
     "metadata": {},
     "output_type": "execute_result"
    }
   ],
   "source": [
    "x.capitalize()"
   ]
  },
  {
   "cell_type": "code",
   "execution_count": 27,
   "id": "f3e3ee3e",
   "metadata": {},
   "outputs": [],
   "source": [
    "x='i am a human'"
   ]
  },
  {
   "cell_type": "code",
   "execution_count": 28,
   "id": "e4226dd2",
   "metadata": {},
   "outputs": [
    {
     "data": {
      "text/plain": [
       "'I am a human'"
      ]
     },
     "execution_count": 28,
     "metadata": {},
     "output_type": "execute_result"
    }
   ],
   "source": [
    "x.capitalize()"
   ]
  },
  {
   "cell_type": "code",
   "execution_count": 29,
   "id": "8a2a88bb",
   "metadata": {},
   "outputs": [
    {
     "data": {
      "text/plain": [
       "'i am a human'"
      ]
     },
     "execution_count": 29,
     "metadata": {},
     "output_type": "execute_result"
    }
   ],
   "source": [
    "x.casefold()"
   ]
  },
  {
   "cell_type": "code",
   "execution_count": 36,
   "id": "dd8e602e",
   "metadata": {},
   "outputs": [
    {
     "data": {
      "text/plain": [
       "<function str.center(width, fillchar=' ', /)>"
      ]
     },
     "execution_count": 36,
     "metadata": {},
     "output_type": "execute_result"
    }
   ],
   "source": [
    "x.center#increasing space"
   ]
  },
  {
   "cell_type": "code",
   "execution_count": 37,
   "id": "8ddcd74d",
   "metadata": {},
   "outputs": [
    {
     "data": {
      "text/plain": [
       "0"
      ]
     },
     "execution_count": 37,
     "metadata": {},
     "output_type": "execute_result"
    }
   ],
   "source": [
    "x.count('e')"
   ]
  },
  {
   "cell_type": "code",
   "execution_count": 38,
   "id": "2a97c9cb",
   "metadata": {},
   "outputs": [
    {
     "data": {
      "text/plain": [
       "b'i am a human'"
      ]
     },
     "execution_count": 38,
     "metadata": {},
     "output_type": "execute_result"
    }
   ],
   "source": [
    "x.encode() #bytes in coding"
   ]
  },
  {
   "cell_type": "code",
   "execution_count": 39,
   "id": "6dcdee91",
   "metadata": {},
   "outputs": [
    {
     "data": {
      "text/plain": [
       "<function str.endswith>"
      ]
     },
     "execution_count": 39,
     "metadata": {},
     "output_type": "execute_result"
    }
   ],
   "source": [
    "x.endswith"
   ]
  },
  {
   "cell_type": "code",
   "execution_count": 40,
   "id": "f07e48e4",
   "metadata": {},
   "outputs": [
    {
     "data": {
      "text/plain": [
       "<function str.expandtabs(tabsize=8)>"
      ]
     },
     "execution_count": 40,
     "metadata": {},
     "output_type": "execute_result"
    }
   ],
   "source": [
    "x.expandtabs"
   ]
  },
  {
   "cell_type": "code",
   "execution_count": 35,
   "id": "bb4f7dcf",
   "metadata": {},
   "outputs": [
    {
     "data": {
      "text/plain": [
       "['i', 'am', 'a', 'human']"
      ]
     },
     "execution_count": 35,
     "metadata": {},
     "output_type": "execute_result"
    }
   ],
   "source": [
    "x.rsplit()"
   ]
  },
  {
   "cell_type": "code",
   "execution_count": 41,
   "id": "50d1c2e2",
   "metadata": {},
   "outputs": [
    {
     "data": {
      "text/plain": [
       "False"
      ]
     },
     "execution_count": 41,
     "metadata": {},
     "output_type": "execute_result"
    }
   ],
   "source": [
    "x.isalnum()"
   ]
  },
  {
   "cell_type": "code",
   "execution_count": 42,
   "id": "43a44bc9",
   "metadata": {},
   "outputs": [
    {
     "data": {
      "text/plain": [
       "False"
      ]
     },
     "execution_count": 42,
     "metadata": {},
     "output_type": "execute_result"
    }
   ],
   "source": [
    "x.isalpha()"
   ]
  },
  {
   "cell_type": "code",
   "execution_count": 43,
   "id": "cea77956",
   "metadata": {},
   "outputs": [],
   "source": [
    "y='python'"
   ]
  },
  {
   "cell_type": "code",
   "execution_count": 44,
   "id": "35120930",
   "metadata": {},
   "outputs": [
    {
     "data": {
      "text/plain": [
       "True"
      ]
     },
     "execution_count": 44,
     "metadata": {},
     "output_type": "execute_result"
    }
   ],
   "source": [
    "y.isalpha()"
   ]
  },
  {
   "cell_type": "code",
   "execution_count": 45,
   "id": "aa6bd2c8",
   "metadata": {},
   "outputs": [
    {
     "data": {
      "text/plain": [
       "'PYTHON'"
      ]
     },
     "execution_count": 45,
     "metadata": {},
     "output_type": "execute_result"
    }
   ],
   "source": [
    "y.upper()"
   ]
  },
  {
   "cell_type": "code",
   "execution_count": 47,
   "id": "0dfd02ac",
   "metadata": {},
   "outputs": [
    {
     "data": {
      "text/plain": [
       "<function str.zfill(width, /)>"
      ]
     },
     "execution_count": 47,
     "metadata": {},
     "output_type": "execute_result"
    }
   ],
   "source": [
    "y.zfill"
   ]
  },
  {
   "cell_type": "code",
   "execution_count": null,
   "id": "ef9dd7ce",
   "metadata": {},
   "outputs": [],
   "source": []
  }
 ],
 "metadata": {
  "kernelspec": {
   "display_name": "Python 3 (ipykernel)",
   "language": "python",
   "name": "python3"
  },
  "language_info": {
   "codemirror_mode": {
    "name": "ipython",
    "version": 3
   },
   "file_extension": ".py",
   "mimetype": "text/x-python",
   "name": "python",
   "nbconvert_exporter": "python",
   "pygments_lexer": "ipython3",
   "version": "3.11.1"
  }
 },
 "nbformat": 4,
 "nbformat_minor": 5
}
