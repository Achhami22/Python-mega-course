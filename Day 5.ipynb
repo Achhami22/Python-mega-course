{
 "cells": [
  {
   "cell_type": "markdown",
   "id": "53eb175e",
   "metadata": {},
   "source": [
    "# Tuples Continued"
   ]
  },
  {
   "cell_type": "code",
   "execution_count": 1,
   "id": "b4b596b2",
   "metadata": {},
   "outputs": [],
   "source": [
    "x=('apple','banana','grapes','apple','apple')"
   ]
  },
  {
   "cell_type": "code",
   "execution_count": 2,
   "id": "1e1acf21",
   "metadata": {},
   "outputs": [
    {
     "data": {
      "text/plain": [
       "('apple', 'banana', 'grapes', 'apple', 'apple')"
      ]
     },
     "execution_count": 2,
     "metadata": {},
     "output_type": "execute_result"
    }
   ],
   "source": [
    "x"
   ]
  },
  {
   "cell_type": "code",
   "execution_count": 3,
   "id": "e4da62c1",
   "metadata": {},
   "outputs": [
    {
     "data": {
      "text/plain": [
       "5"
      ]
     },
     "execution_count": 3,
     "metadata": {},
     "output_type": "execute_result"
    }
   ],
   "source": [
    "len(x)"
   ]
  },
  {
   "cell_type": "code",
   "execution_count": 4,
   "id": "0d78ca71",
   "metadata": {},
   "outputs": [
    {
     "data": {
      "text/plain": [
       "'grapes'"
      ]
     },
     "execution_count": 4,
     "metadata": {},
     "output_type": "execute_result"
    }
   ],
   "source": [
    "x[2]"
   ]
  },
  {
   "cell_type": "code",
   "execution_count": 5,
   "id": "394422a4",
   "metadata": {},
   "outputs": [
    {
     "data": {
      "text/plain": [
       "('grapes', 'apple', 'apple')"
      ]
     },
     "execution_count": 5,
     "metadata": {},
     "output_type": "execute_result"
    }
   ],
   "source": [
    "x[2:5]"
   ]
  },
  {
   "cell_type": "code",
   "execution_count": 6,
   "id": "c80315eb",
   "metadata": {},
   "outputs": [],
   "source": [
    "y=list(x)"
   ]
  },
  {
   "cell_type": "code",
   "execution_count": 7,
   "id": "1550e795",
   "metadata": {},
   "outputs": [
    {
     "data": {
      "text/plain": [
       "['apple', 'banana', 'grapes', 'apple', 'apple']"
      ]
     },
     "execution_count": 7,
     "metadata": {},
     "output_type": "execute_result"
    }
   ],
   "source": [
    "y"
   ]
  },
  {
   "cell_type": "code",
   "execution_count": 8,
   "id": "8069ba6f",
   "metadata": {},
   "outputs": [
    {
     "data": {
      "text/plain": [
       "'grapes'"
      ]
     },
     "execution_count": 8,
     "metadata": {},
     "output_type": "execute_result"
    }
   ],
   "source": [
    "y[2]"
   ]
  },
  {
   "cell_type": "code",
   "execution_count": 9,
   "id": "d7c6cb45",
   "metadata": {},
   "outputs": [],
   "source": [
    "y[2]='papaya'"
   ]
  },
  {
   "cell_type": "code",
   "execution_count": 10,
   "id": "80da4c39",
   "metadata": {},
   "outputs": [
    {
     "data": {
      "text/plain": [
       "['apple', 'banana', 'papaya', 'apple', 'apple']"
      ]
     },
     "execution_count": 10,
     "metadata": {},
     "output_type": "execute_result"
    }
   ],
   "source": [
    "y"
   ]
  },
  {
   "cell_type": "code",
   "execution_count": 11,
   "id": "a7b8bf2c",
   "metadata": {},
   "outputs": [],
   "source": [
    "x=tuple(y)"
   ]
  },
  {
   "cell_type": "code",
   "execution_count": 12,
   "id": "329ae177",
   "metadata": {},
   "outputs": [
    {
     "data": {
      "text/plain": [
       "('apple', 'banana', 'papaya', 'apple', 'apple')"
      ]
     },
     "execution_count": 12,
     "metadata": {},
     "output_type": "execute_result"
    }
   ],
   "source": [
    "x"
   ]
  },
  {
   "cell_type": "code",
   "execution_count": 13,
   "id": "8dcaf897",
   "metadata": {},
   "outputs": [],
   "source": [
    "y.remove('apple')"
   ]
  },
  {
   "cell_type": "code",
   "execution_count": 14,
   "id": "408b762a",
   "metadata": {},
   "outputs": [
    {
     "data": {
      "text/plain": [
       "['banana', 'papaya', 'apple', 'apple']"
      ]
     },
     "execution_count": 14,
     "metadata": {},
     "output_type": "execute_result"
    }
   ],
   "source": [
    "y"
   ]
  },
  {
   "cell_type": "code",
   "execution_count": 15,
   "id": "29cef843",
   "metadata": {},
   "outputs": [],
   "source": [
    "y.remove('banana')"
   ]
  },
  {
   "cell_type": "code",
   "execution_count": 16,
   "id": "127c4268",
   "metadata": {},
   "outputs": [
    {
     "data": {
      "text/plain": [
       "['papaya', 'apple', 'apple']"
      ]
     },
     "execution_count": 16,
     "metadata": {},
     "output_type": "execute_result"
    }
   ],
   "source": [
    "y"
   ]
  },
  {
   "cell_type": "code",
   "execution_count": 17,
   "id": "466ebe95",
   "metadata": {},
   "outputs": [
    {
     "data": {
      "text/plain": [
       "tuple"
      ]
     },
     "execution_count": 17,
     "metadata": {},
     "output_type": "execute_result"
    }
   ],
   "source": [
    "type(x)"
   ]
  },
  {
   "cell_type": "code",
   "execution_count": 18,
   "id": "a3e10b9b",
   "metadata": {},
   "outputs": [],
   "source": [
    "z=('hexcode')"
   ]
  },
  {
   "cell_type": "code",
   "execution_count": 19,
   "id": "a558a331",
   "metadata": {},
   "outputs": [
    {
     "data": {
      "text/plain": [
       "str"
      ]
     },
     "execution_count": 19,
     "metadata": {},
     "output_type": "execute_result"
    }
   ],
   "source": [
    "type(z)"
   ]
  },
  {
   "cell_type": "code",
   "execution_count": 20,
   "id": "57ff21e0",
   "metadata": {},
   "outputs": [],
   "source": [
    "z=('hexcode',)"
   ]
  },
  {
   "cell_type": "code",
   "execution_count": 21,
   "id": "9a6bb2c4",
   "metadata": {},
   "outputs": [
    {
     "data": {
      "text/plain": [
       "tuple"
      ]
     },
     "execution_count": 21,
     "metadata": {},
     "output_type": "execute_result"
    }
   ],
   "source": [
    "type(z)"
   ]
  },
  {
   "cell_type": "markdown",
   "id": "1545e015",
   "metadata": {},
   "source": [
    "SET"
   ]
  },
  {
   "cell_type": "code",
   "execution_count": 22,
   "id": "b46268dc",
   "metadata": {},
   "outputs": [],
   "source": [
    "s1={1,2,3,4,5,6}"
   ]
  },
  {
   "cell_type": "code",
   "execution_count": 23,
   "id": "609785d8",
   "metadata": {},
   "outputs": [
    {
     "data": {
      "text/plain": [
       "set"
      ]
     },
     "execution_count": 23,
     "metadata": {},
     "output_type": "execute_result"
    }
   ],
   "source": [
    "type(s1)"
   ]
  },
  {
   "cell_type": "code",
   "execution_count": 24,
   "id": "f0bf5430",
   "metadata": {},
   "outputs": [],
   "source": [
    "s2={1,1,1,2,3,4,5,6,6,6,6,7,7}"
   ]
  },
  {
   "cell_type": "code",
   "execution_count": 25,
   "id": "0ce9af83",
   "metadata": {},
   "outputs": [
    {
     "data": {
      "text/plain": [
       "{1, 2, 3, 4, 5, 6, 7}"
      ]
     },
     "execution_count": 25,
     "metadata": {},
     "output_type": "execute_result"
    }
   ],
   "source": [
    "s2"
   ]
  },
  {
   "cell_type": "code",
   "execution_count": 26,
   "id": "c079e3b7",
   "metadata": {},
   "outputs": [
    {
     "data": {
      "text/plain": [
       "6"
      ]
     },
     "execution_count": 26,
     "metadata": {},
     "output_type": "execute_result"
    }
   ],
   "source": [
    "len(s1)"
   ]
  },
  {
   "cell_type": "code",
   "execution_count": 27,
   "id": "64af0e73",
   "metadata": {},
   "outputs": [
    {
     "data": {
      "text/plain": [
       "7"
      ]
     },
     "execution_count": 27,
     "metadata": {},
     "output_type": "execute_result"
    }
   ],
   "source": [
    "len(s2)"
   ]
  },
  {
   "cell_type": "code",
   "execution_count": 28,
   "id": "aa89dfa1",
   "metadata": {},
   "outputs": [],
   "source": [
    "s2.add('hi')"
   ]
  },
  {
   "cell_type": "code",
   "execution_count": 29,
   "id": "b2695f5a",
   "metadata": {},
   "outputs": [
    {
     "data": {
      "text/plain": [
       "{1, 2, 3, 4, 5, 6, 7, 'hi'}"
      ]
     },
     "execution_count": 29,
     "metadata": {},
     "output_type": "execute_result"
    }
   ],
   "source": [
    "s2"
   ]
  },
  {
   "cell_type": "code",
   "execution_count": 30,
   "id": "e5a31e42",
   "metadata": {},
   "outputs": [],
   "source": [
    "s2.remove('hi')"
   ]
  },
  {
   "cell_type": "code",
   "execution_count": 31,
   "id": "8f870cc9",
   "metadata": {},
   "outputs": [
    {
     "data": {
      "text/plain": [
       "{1, 2, 3, 4, 5, 6, 7}"
      ]
     },
     "execution_count": 31,
     "metadata": {},
     "output_type": "execute_result"
    }
   ],
   "source": [
    "s2"
   ]
  },
  {
   "cell_type": "code",
   "execution_count": 32,
   "id": "20c465d2",
   "metadata": {},
   "outputs": [],
   "source": [
    "s2.remove(6)"
   ]
  },
  {
   "cell_type": "code",
   "execution_count": 33,
   "id": "f5eea24d",
   "metadata": {},
   "outputs": [
    {
     "data": {
      "text/plain": [
       "{1, 2, 3, 4, 5, 7}"
      ]
     },
     "execution_count": 33,
     "metadata": {},
     "output_type": "execute_result"
    }
   ],
   "source": [
    "s2"
   ]
  },
  {
   "cell_type": "code",
   "execution_count": 34,
   "id": "83fd7447",
   "metadata": {},
   "outputs": [
    {
     "name": "stdout",
     "output_type": "stream",
     "text": [
      "1\n",
      "2\n",
      "3\n",
      "4\n",
      "5\n",
      "7\n"
     ]
    }
   ],
   "source": [
    "for i in s2:\n",
    "    print(i) # using for loop"
   ]
  },
  {
   "cell_type": "code",
   "execution_count": 35,
   "id": "fe472cb8",
   "metadata": {},
   "outputs": [],
   "source": [
    "y=list(s2)#chainging set into list"
   ]
  },
  {
   "cell_type": "code",
   "execution_count": 36,
   "id": "3fee8e38",
   "metadata": {},
   "outputs": [
    {
     "data": {
      "text/plain": [
       "[1, 2, 3, 4, 5, 7]"
      ]
     },
     "execution_count": 36,
     "metadata": {},
     "output_type": "execute_result"
    }
   ],
   "source": [
    "y"
   ]
  },
  {
   "cell_type": "code",
   "execution_count": null,
   "id": "8968b657",
   "metadata": {},
   "outputs": [],
   "source": []
  }
 ],
 "metadata": {
  "kernelspec": {
   "display_name": "Python 3 (ipykernel)",
   "language": "python",
   "name": "python3"
  },
  "language_info": {
   "codemirror_mode": {
    "name": "ipython",
    "version": 3
   },
   "file_extension": ".py",
   "mimetype": "text/x-python",
   "name": "python",
   "nbconvert_exporter": "python",
   "pygments_lexer": "ipython3",
   "version": "3.11.1"
  }
 },
 "nbformat": 4,
 "nbformat_minor": 5
}
