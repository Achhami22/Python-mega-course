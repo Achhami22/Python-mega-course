{
 "cells": [
  {
   "cell_type": "markdown",
   "id": "903f116c",
   "metadata": {},
   "source": [
    "\n",
    "# PYTHON MEGA COURSE\n",
    "   Phase 1"
   ]
  },
  {
   "cell_type": "markdown",
   "id": "bbe9988f",
   "metadata": {},
   "source": [
    "Exercise 2"
   ]
  },
  {
   "cell_type": "markdown",
   "id": "7738bbc5",
   "metadata": {},
   "source": [
    "1.Print first 10 natural numbers using while loop."
   ]
  },
  {
   "cell_type": "code",
   "execution_count": 1,
   "id": "c0870191",
   "metadata": {},
   "outputs": [],
   "source": [
    "i=1"
   ]
  },
  {
   "cell_type": "code",
   "execution_count": 2,
   "id": "b9084b2c",
   "metadata": {},
   "outputs": [
    {
     "name": "stdout",
     "output_type": "stream",
     "text": [
      "1 2 3 4 5 6 7 8 9 10 "
     ]
    }
   ],
   "source": [
    "while i<= 10:\n",
    "    print(i,end=' ')\n",
    "    i += 1"
   ]
  },
  {
   "cell_type": "markdown",
   "id": "a970a245",
   "metadata": {},
   "source": [
    "2.Calculate the sum of all numbers from 1 to a given number."
   ]
  },
  {
   "cell_type": "code",
   "execution_count": 3,
   "id": "be2a7ce3",
   "metadata": {},
   "outputs": [
    {
     "name": "stdout",
     "output_type": "stream",
     "text": [
      "Enter a number: 65\n",
      "The sum is  2145\n"
     ]
    }
   ],
   "source": [
    "x=int(input('Enter a number: '))\n",
    "sum=0\n",
    "for i in range(1,x+1):\n",
    "    sum+=i\n",
    "print('The sum is ',sum)"
   ]
  },
  {
   "cell_type": "markdown",
   "id": "b4a4320b",
   "metadata": {},
   "source": [
    "3.Write a program to print multiplication table of a given number."
   ]
  },
  {
   "cell_type": "code",
   "execution_count": 4,
   "id": "ac6342b0",
   "metadata": {},
   "outputs": [
    {
     "name": "stdout",
     "output_type": "stream",
     "text": [
      "Enter a number 34\n",
      "34 x 1 = 34\n",
      "34 x 2 = 68\n",
      "34 x 3 = 102\n",
      "34 x 4 = 136\n",
      "34 x 5 = 170\n",
      "34 x 6 = 204\n",
      "34 x 7 = 238\n",
      "34 x 8 = 272\n",
      "34 x 9 = 306\n",
      "34 x 10 = 340\n"
     ]
    }
   ],
   "source": [
    "num=int(input('Enter a number '))\n",
    "for i in range(1,11):\n",
    "    print(num,'x',i,'=',num*i)"
   ]
  },
  {
   "cell_type": "markdown",
   "id": "57492478",
   "metadata": {},
   "source": [
    "4.Display numbers from a list using loop."
   ]
  },
  {
   "cell_type": "code",
   "execution_count": 5,
   "id": "aefb42a4",
   "metadata": {},
   "outputs": [],
   "source": [
    "lst=[0,1,2,3,4,5,6,7,8,9]"
   ]
  },
  {
   "cell_type": "code",
   "execution_count": 6,
   "id": "19de73d9",
   "metadata": {},
   "outputs": [],
   "source": [
    "i=0"
   ]
  },
  {
   "cell_type": "code",
   "execution_count": 7,
   "id": "aed4afaa",
   "metadata": {},
   "outputs": [
    {
     "name": "stdout",
     "output_type": "stream",
     "text": [
      "0 1 2 3 4 5 6 7 8 9 "
     ]
    }
   ],
   "source": [
    "while i<len(lst):\n",
    "    print(lst[i],end=' ')\n",
    "    i = i+1"
   ]
  },
  {
   "cell_type": "markdown",
   "id": "8184f209",
   "metadata": {},
   "source": [
    "5.Count the total number of digits in a number."
   ]
  },
  {
   "cell_type": "code",
   "execution_count": 8,
   "id": "78794780",
   "metadata": {},
   "outputs": [
    {
     "name": "stdout",
     "output_type": "stream",
     "text": [
      "Enter the number: 67890\n",
      "The total number of digits is  5\n"
     ]
    }
   ],
   "source": [
    "n=int(input('Enter the number: '))\n",
    "count=0\n",
    "while(n>0):\n",
    "    count=count+1\n",
    "    n=n//10\n",
    "print('The total number of digits is ',count)"
   ]
  },
  {
   "cell_type": "markdown",
   "id": "74810a92",
   "metadata": {},
   "source": [
    "6.Print list in reverse order using loop."
   ]
  },
  {
   "cell_type": "code",
   "execution_count": 9,
   "id": "ef9d6a9c",
   "metadata": {},
   "outputs": [],
   "source": [
    "lst=[1,2,3,4,5,6]"
   ]
  },
  {
   "cell_type": "code",
   "execution_count": 10,
   "id": "039d33d6",
   "metadata": {},
   "outputs": [
    {
     "name": "stdout",
     "output_type": "stream",
     "text": [
      "List before reverse:  [1, 2, 3, 4, 5, 6]\n"
     ]
    }
   ],
   "source": [
    "print(\"List before reverse: \",lst)"
   ]
  },
  {
   "cell_type": "code",
   "execution_count": 11,
   "id": "76d3eb43",
   "metadata": {},
   "outputs": [
    {
     "name": "stdout",
     "output_type": "stream",
     "text": [
      "6 5 4 3 2 1 "
     ]
    }
   ],
   "source": [
    "for i in reversed(lst):\n",
    "    print(i,end=' ')"
   ]
  },
  {
   "cell_type": "markdown",
   "id": "9a7a4433",
   "metadata": {},
   "source": [
    "7.Display numbers from -10 to -1 using for loop."
   ]
  },
  {
   "cell_type": "code",
   "execution_count": 12,
   "id": "c83e707a",
   "metadata": {},
   "outputs": [],
   "source": [
    "i=0"
   ]
  },
  {
   "cell_type": "code",
   "execution_count": 13,
   "id": "c561eb52",
   "metadata": {},
   "outputs": [
    {
     "name": "stdout",
     "output_type": "stream",
     "text": [
      "-10 -9 -8 -7 -6 -5 -4 -3 -2 -1 "
     ]
    }
   ],
   "source": [
    "for i in range(-10,0):\n",
    "    print(i,end=' ')"
   ]
  },
  {
   "cell_type": "markdown",
   "id": "bf21a5de",
   "metadata": {},
   "source": [
    "8. Use else block to display a message \"Done\" after successful execution of for loop."
   ]
  },
  {
   "cell_type": "code",
   "execution_count": 14,
   "id": "345ddf5c",
   "metadata": {},
   "outputs": [
    {
     "name": "stdout",
     "output_type": "stream",
     "text": [
      "0\n",
      "1\n",
      "2\n",
      "3\n",
      "4\n",
      "Done!\n"
     ]
    }
   ],
   "source": [
    "for i in range(5):\n",
    "    print(i)\n",
    "else:\n",
    "    print(\"Done!\")"
   ]
  },
  {
   "cell_type": "markdown",
   "id": "e5002cc7",
   "metadata": {},
   "source": [
    "9. Write a program to display all prime numbers within a range. "
   ]
  },
  {
   "cell_type": "code",
   "execution_count": 15,
   "id": "e29ef57a",
   "metadata": {},
   "outputs": [
    {
     "name": "stdout",
     "output_type": "stream",
     "text": [
      "Enter lower value 5\n",
      "Enter upper value125\n",
      "Prime numbers between 5 and 125 are: \n",
      "5 7 11 13 17 19 23 29 31 37 41 43 47 53 59 61 67 71 73 79 83 89 97 101 103 107 109 113 "
     ]
    }
   ],
   "source": [
    "# Rangex\n",
    "start=int(input('Enter lower value '))\n",
    "end=int(input('Enter upper value'))\n",
    "print(\"Prime numbers between\",start,\"and\",end,\"are: \")\n",
    "for num in range(start, end+ 1):\n",
    "    # all prime numbers are greater than 1\n",
    "    # if number is less than or equal to 1, it is not prime\n",
    "    if num > 1:\n",
    "        for i in range(2, num):\n",
    "            # check for factors\n",
    "            if (num % i) == 0:\n",
    "                # not a prime number so break inner loop and\n",
    "                # look for next number\n",
    "                break\n",
    "        else:\n",
    "            print(num,end=' ')"
   ]
  },
  {
   "cell_type": "code",
   "execution_count": 16,
   "id": "32bcf6c0",
   "metadata": {},
   "outputs": [
    {
     "name": "stdout",
     "output_type": "stream",
     "text": [
      "Fibonacci sequence:\n",
      "0  1  1  2  3  5  8  13  21  34  "
     ]
    }
   ],
   "source": [
    "# first two numbers 10. Display Fibonacci series up to 10 terms. \n",
    "\n",
    "num1, num2 = 0, 1\n",
    "\n",
    "print(\"Fibonacci sequence:\")\n",
    "# run loop 10 times\n",
    "for i in range(10):\n",
    "    # print next number of a series\n",
    "    print(num1, end=\"  \")    # add last two numbers to get next number\n",
    "    res = num1 + num2\n",
    "\n",
    "    # update values\n",
    "    num1 = num2\n",
    "    num2 = res"
   ]
  },
  {
   "cell_type": "markdown",
   "id": "56c5dcf6",
   "metadata": {},
   "source": [
    "11. Find the factorial of a given number "
   ]
  },
  {
   "cell_type": "code",
   "execution_count": 17,
   "id": "627d2a4e",
   "metadata": {},
   "outputs": [
    {
     "name": "stdout",
     "output_type": "stream",
     "text": [
      "Enter a number89\n",
      "The factorial of 89 is 16507955160908461081216919262453619309839666236496541854913520707833171034378509739399912570787600662729080382999756800000000000000000000\n"
     ]
    }
   ],
   "source": [
    "num=int(input('Enter a number'))\n",
    "factorial=1\n",
    "if num < 0:\n",
    "    print(\"Factorial does not exist for negative numbers\")\n",
    "elif num == 0:\n",
    "    print(\"The factorial of 0 is 1\")\n",
    "else:\n",
    "    # run loop 5 times\n",
    "    for i in range(1, num + 1):\n",
    "        # multiply factorial by current number\n",
    "        factorial = factorial * i\n",
    "    print(\"The factorial of\", num, \"is\", factorial)"
   ]
  },
  {
   "cell_type": "markdown",
   "id": "05633cb2",
   "metadata": {},
   "source": [
    "12. Reverse a given integer number"
   ]
  },
  {
   "cell_type": "code",
   "execution_count": 18,
   "id": "0a55394f",
   "metadata": {},
   "outputs": [
    {
     "name": "stdout",
     "output_type": "stream",
     "text": [
      "Given Number  76542\n",
      "Revere Number  24567\n"
     ]
    }
   ],
   "source": [
    "num = 76542\n",
    "reverse_number = 0\n",
    "print(\"Given Number \", num)\n",
    "while num > 0:\n",
    "    reminder = num % 10\n",
    "    reverse_number = (reverse_number * 10) + reminder\n",
    "    num = num // 10\n",
    "print(\"Revere Number \", reverse_number)"
   ]
  },
  {
   "cell_type": "markdown",
   "id": "e4fc3165",
   "metadata": {},
   "source": [
    "13. Use a loop to display elements from a given list present at odd index positions."
   ]
  },
  {
   "cell_type": "code",
   "execution_count": 19,
   "id": "c9a20531",
   "metadata": {},
   "outputs": [
    {
     "name": "stdout",
     "output_type": "stream",
     "text": [
      "20 40 60 80 100 "
     ]
    }
   ],
   "source": [
    "my_list = [10, 20, 30, 40, 50, 60, 70, 80, 90, 100]\n",
    "# stat from index 1 with step 2( means 1, 3, 5, an so on)\n",
    "for i in my_list[1::2]:\n",
    "    print(i, end=\" \")"
   ]
  },
  {
   "cell_type": "markdown",
   "id": "28b6750e",
   "metadata": {},
   "source": [
    "14. Calculate the cube of all numbers from 1 to a given number."
   ]
  },
  {
   "cell_type": "code",
   "execution_count": 20,
   "id": "dd2e8ae3",
   "metadata": {},
   "outputs": [
    {
     "name": "stdout",
     "output_type": "stream",
     "text": [
      "2+22+222+2222+22222+\n",
      "Sum of above series is: 24690\n"
     ]
    }
   ],
   "source": [
    "n = 5\n",
    "# first number of sequence\n",
    "start = 2\n",
    "sum_seq = 0\n",
    "\n",
    "# run loop n times\n",
    "for i in range(0, n):\n",
    "    print(start, end=\"+\")\n",
    "    sum_seq += start\n",
    "    # calculate the next term\n",
    "    start = start * 10 + 2\n",
    "print(\"\\nSum of above series is:\", sum_seq)"
   ]
  },
  {
   "cell_type": "markdown",
   "id": "76ff8f66",
   "metadata": {},
   "source": [
    "15. Find the sum of the series upto n terms ."
   ]
  },
  {
   "cell_type": "code",
   "execution_count": 21,
   "id": "57f3c2bf",
   "metadata": {},
   "outputs": [
    {
     "name": "stdout",
     "output_type": "stream",
     "text": [
      "2+22+222+2222+22222+\n",
      "Sum of above series is: 24690\n"
     ]
    }
   ],
   "source": [
    "n = 5\n",
    "# first number of sequence\n",
    "start = 2\n",
    "sum_seq = 0\n",
    "\n",
    "# run loop n times\n",
    "for i in range(0, n):\n",
    "    print(start, end=\"+\")\n",
    "    sum_seq += start\n",
    "    # calculate the next term\n",
    "    start = start * 10 + 2\n",
    "print(\"\\nSum of above series is:\", sum_seq)"
   ]
  },
  {
   "cell_type": "markdown",
   "id": "3c2e1bfe",
   "metadata": {},
   "source": [
    "16. Print the following pattern."
   ]
  },
  {
   "cell_type": "markdown",
   "id": "8901791a",
   "metadata": {},
   "source": [
    "Pattern 1"
   ]
  },
  {
   "cell_type": "code",
   "execution_count": 22,
   "id": "aa46fe14",
   "metadata": {},
   "outputs": [
    {
     "name": "stdout",
     "output_type": "stream",
     "text": [
      "\n",
      "\n",
      "1   \n",
      "\n",
      "1   2   \n",
      "\n",
      "1   2   3   \n",
      "\n",
      "1   2   3   4   \n",
      "\n",
      "1   2   3   4   5   \n",
      "\n"
     ]
    }
   ],
   "source": [
    "for i in range(1,7):\n",
    "    for j in range(1,i):          \n",
    "        print(j,end='   ')\n",
    "    print('\\n')"
   ]
  },
  {
   "cell_type": "markdown",
   "id": "3fc9aef8",
   "metadata": {},
   "source": [
    "Pattern 2"
   ]
  },
  {
   "cell_type": "code",
   "execution_count": 23,
   "id": "add15c0f",
   "metadata": {},
   "outputs": [
    {
     "name": "stdout",
     "output_type": "stream",
     "text": [
      "\n",
      "\n",
      "*  \n",
      "\n",
      "*  *  \n",
      "\n",
      "*  *  *  \n",
      "\n",
      "*  *  *  *  \n",
      "\n",
      "*  *  *  *  *  \n",
      "\n"
     ]
    }
   ],
   "source": [
    "for i in range(1,7):         #patten 3\n",
    "    for j in range(1,i):\n",
    "        print('*',end='  ')\n",
    "    print('\\n')"
   ]
  },
  {
   "cell_type": "markdown",
   "id": "27bb0db7",
   "metadata": {},
   "source": [
    "Pattern 3"
   ]
  },
  {
   "cell_type": "code",
   "execution_count": 24,
   "id": "5ac3f4b8",
   "metadata": {},
   "outputs": [
    {
     "name": "stdout",
     "output_type": "stream",
     "text": [
      "\n",
      "\n",
      "*  \n",
      "\n",
      "*  *  \n",
      "\n",
      "*  *  *  \n",
      "\n",
      "*  *  *  *  \n",
      "\n",
      "*  *  *  *  *  \n",
      "\n"
     ]
    }
   ],
   "source": [
    "for i in range(1,7):         #patten 3\n",
    "    for j in range(1,i):\n",
    "        print('*',end='  ')\n",
    "    print('\\n')"
   ]
  },
  {
   "cell_type": "markdown",
   "id": "49682238",
   "metadata": {},
   "source": [
    "Pattern 4"
   ]
  },
  {
   "cell_type": "code",
   "execution_count": 25,
   "id": "d6282251",
   "metadata": {},
   "outputs": [
    {
     "name": "stdout",
     "output_type": "stream",
     "text": [
      "1   \n",
      "\n",
      "2   2   \n",
      "\n",
      "3   3   3   \n",
      "\n",
      "4   4   4   4   \n",
      "\n",
      "5   5   5   5   5   \n",
      "\n"
     ]
    }
   ],
   "source": [
    "for i in range(1,6):\n",
    "    for j in range(0,i):          #patten4\n",
    "        print(i,end='   ')\n",
    "    print('\\n')"
   ]
  },
  {
   "cell_type": "markdown",
   "id": "c48a619d",
   "metadata": {},
   "source": [
    "Pattern 5"
   ]
  },
  {
   "cell_type": "code",
   "execution_count": 26,
   "id": "0b2583bf",
   "metadata": {},
   "outputs": [
    {
     "name": "stdout",
     "output_type": "stream",
     "text": [
      "a \r\n",
      "a a \r\n",
      "a a a \r\n",
      "a a a a \r\n",
      "a a a a a \r\n",
      "b b b b \r\n",
      "b b b \r\n",
      "b b \r\n",
      "b \r\n",
      "\r\n"
     ]
    }
   ],
   "source": [
    "rows = 5\n",
    "for i in range(0, rows):\n",
    "    for j in range(0, i + 1):\n",
    "        print(\"a\", end=' ')\n",
    "    print(\"\\r\")\n",
    "\n",
    "for i in range(rows, 0, -1):\n",
    "    for j in range(0, i - 1):\n",
    "        print(\"b\", end=' ')\n",
    "    print(\"\\r\")"
   ]
  },
  {
   "cell_type": "code",
   "execution_count": null,
   "id": "db649657",
   "metadata": {},
   "outputs": [],
   "source": []
  },
  {
   "cell_type": "code",
   "execution_count": null,
   "id": "d6b1c6a6",
   "metadata": {},
   "outputs": [],
   "source": []
  }
 ],
 "metadata": {
  "kernelspec": {
   "display_name": "Python 3 (ipykernel)",
   "language": "python",
   "name": "python3"
  },
  "language_info": {
   "codemirror_mode": {
    "name": "ipython",
    "version": 3
   },
   "file_extension": ".py",
   "mimetype": "text/x-python",
   "name": "python",
   "nbconvert_exporter": "python",
   "pygments_lexer": "ipython3",
   "version": "3.11.1"
  }
 },
 "nbformat": 4,
 "nbformat_minor": 5
}
