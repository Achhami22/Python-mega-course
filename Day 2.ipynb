{
 "cells": [
  {
   "cell_type": "code",
   "execution_count": 2,
   "id": "92690227",
   "metadata": {},
   "outputs": [],
   "source": [
    "x='HexCode'"
   ]
  },
  {
   "cell_type": "code",
   "execution_count": 3,
   "id": "e37f1aa3",
   "metadata": {},
   "outputs": [],
   "source": [
    "y='Nepal'"
   ]
  },
  {
   "cell_type": "code",
   "execution_count": 5,
   "id": "07d7d1fd",
   "metadata": {},
   "outputs": [],
   "source": [
    "z=x+y"
   ]
  },
  {
   "cell_type": "code",
   "execution_count": 6,
   "id": "e5bf6722",
   "metadata": {},
   "outputs": [
    {
     "name": "stdout",
     "output_type": "stream",
     "text": [
      "HexCodeNepal\n"
     ]
    }
   ],
   "source": [
    "print(z)"
   ]
  },
  {
   "cell_type": "code",
   "execution_count": 2,
   "id": "ec2f10db",
   "metadata": {},
   "outputs": [
    {
     "name": "stdout",
     "output_type": "stream",
     "text": [
      "Enter your Frist name: Sabina\n",
      "Enter your Last name: Achhami\n"
     ]
    }
   ],
   "source": [
    "F_name=input('Enter your Frist name: ')\n",
    "L_name=input('Enter your Last name: ')"
   ]
  },
  {
   "cell_type": "code",
   "execution_count": 3,
   "id": "d91fd4f3",
   "metadata": {},
   "outputs": [
    {
     "name": "stdout",
     "output_type": "stream",
     "text": [
      "Your name is SabinaAchhami\n"
     ]
    }
   ],
   "source": [
    "print('Your name is '+F_name+''+ L_name)"
   ]
  },
  {
   "cell_type": "code",
   "execution_count": 11,
   "id": "a09ac0ae",
   "metadata": {},
   "outputs": [
    {
     "name": "stdout",
     "output_type": "stream",
     "text": [
      "Enter first number :55\n",
      "Enter second number :6\n"
     ]
    }
   ],
   "source": [
    "num1=int(input('Enter first number :'))\n",
    "\n",
    "num2=int(input('Enter second number :'))\n"
   ]
  },
  {
   "cell_type": "code",
   "execution_count": 12,
   "id": "a91ea88b",
   "metadata": {},
   "outputs": [],
   "source": [
    "sum1= num1+num2"
   ]
  },
  {
   "cell_type": "code",
   "execution_count": 13,
   "id": "0b4ec647",
   "metadata": {},
   "outputs": [
    {
     "data": {
      "text/plain": [
       "61"
      ]
     },
     "execution_count": 13,
     "metadata": {},
     "output_type": "execute_result"
    }
   ],
   "source": [
    "sum1"
   ]
  },
  {
   "cell_type": "code",
   "execution_count": 14,
   "id": "074ff544",
   "metadata": {},
   "outputs": [
    {
     "name": "stdout",
     "output_type": "stream",
     "text": [
      "61\n"
     ]
    }
   ],
   "source": [
    "print(sum1)"
   ]
  },
  {
   "cell_type": "code",
   "execution_count": 3,
   "id": "d390f40e",
   "metadata": {},
   "outputs": [
    {
     "name": "stdout",
     "output_type": "stream",
     "text": [
      "Enter first number:0.8\n",
      "Enter second number:0.5\n"
     ]
    }
   ],
   "source": [
    "num1=float(input('Enter first number:'))\n",
    "num2=float(input('Enter second number:'))\n"
   ]
  },
  {
   "cell_type": "code",
   "execution_count": 5,
   "id": "52be71a6",
   "metadata": {},
   "outputs": [],
   "source": [
    "diff1=num1-num2"
   ]
  },
  {
   "cell_type": "code",
   "execution_count": 6,
   "id": "8604a0b2",
   "metadata": {},
   "outputs": [
    {
     "data": {
      "text/plain": [
       "0.30000000000000004"
      ]
     },
     "execution_count": 6,
     "metadata": {},
     "output_type": "execute_result"
    }
   ],
   "source": [
    "diff1"
   ]
  },
  {
   "cell_type": "code",
   "execution_count": 7,
   "id": "cba3b0f1",
   "metadata": {},
   "outputs": [
    {
     "name": "stdout",
     "output_type": "stream",
     "text": [
      "0.30000000000000004\n"
     ]
    }
   ],
   "source": [
    "print(diff1)"
   ]
  },
  {
   "cell_type": "code",
   "execution_count": 7,
   "id": "dba99853",
   "metadata": {},
   "outputs": [
    {
     "name": "stdout",
     "output_type": "stream",
     "text": [
      "Enter first number:3\n",
      "Enter second number:4\n"
     ]
    }
   ],
   "source": [
    "x=int(input('Enter first number:')) #text input from user.\n",
    "y=int(input('Enter second number:'))\n"
   ]
  },
  {
   "cell_type": "code",
   "execution_count": 3,
   "id": "3cbacdc8",
   "metadata": {},
   "outputs": [],
   "source": [
    "pr=x*y"
   ]
  },
  {
   "cell_type": "code",
   "execution_count": 4,
   "id": "2bae0e49",
   "metadata": {},
   "outputs": [
    {
     "data": {
      "text/plain": [
       "12"
      ]
     },
     "execution_count": 4,
     "metadata": {},
     "output_type": "execute_result"
    }
   ],
   "source": [
    "pr"
   ]
  },
  {
   "cell_type": "code",
   "execution_count": 5,
   "id": "70076b93",
   "metadata": {},
   "outputs": [
    {
     "name": "stdout",
     "output_type": "stream",
     "text": [
      "The product is  12\n"
     ]
    }
   ],
   "source": [
    "print('The product is ',pr)"
   ]
  },
  {
   "cell_type": "code",
   "execution_count": 6,
   "id": "9e0d5214",
   "metadata": {},
   "outputs": [
    {
     "data": {
      "text/plain": [
       "81"
      ]
     },
     "execution_count": 6,
     "metadata": {},
     "output_type": "execute_result"
    }
   ],
   "source": [
    "x**y"
   ]
  },
  {
   "cell_type": "code",
   "execution_count": null,
   "id": "0e7bd411",
   "metadata": {},
   "outputs": [],
   "source": []
  }
 ],
 "metadata": {
  "kernelspec": {
   "display_name": "Python 3 (ipykernel)",
   "language": "python",
   "name": "python3"
  },
  "language_info": {
   "codemirror_mode": {
    "name": "ipython",
    "version": 3
   },
   "file_extension": ".py",
   "mimetype": "text/x-python",
   "name": "python",
   "nbconvert_exporter": "python",
   "pygments_lexer": "ipython3",
   "version": "3.11.1"
  }
 },
 "nbformat": 4,
 "nbformat_minor": 5
}
